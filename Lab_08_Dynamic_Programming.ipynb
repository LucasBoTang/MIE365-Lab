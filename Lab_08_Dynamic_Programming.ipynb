{
  "nbformat": 4,
  "nbformat_minor": 0,
  "metadata": {
    "colab": {
      "provenance": []
    },
    "kernelspec": {
      "name": "python3",
      "display_name": "Python 3"
    },
    "language_info": {
      "name": "python"
    }
  },
  "cells": [
    {
      "cell_type": "markdown",
      "source": [
        "# Lab 8 Dynamic Programming\n",
        "\n",
        "Made & Presented by Bo Tang\n",
        "\n",
        "In this lab, we will explore how dynamic programming (DP) solves problems by breaking down the problem simpler subproblems in a recursive manner. The goal is to apply DP to a problem and compare it with a mathematical programming solution."
      ],
      "metadata": {
        "id": "FwBYKwx31nmn"
      }
    },
    {
      "cell_type": "code",
      "execution_count": null,
      "metadata": {
        "colab": {
          "base_uri": "https://localhost:8080/"
        },
        "id": "9Hi_U5j4uMY8",
        "outputId": "b9f784bc-f8b7-40d2-f24c-c1cc33345ec0"
      },
      "outputs": [
        {
          "output_type": "stream",
          "name": "stdout",
          "text": [
            "Collecting gurobipy\n",
            "  Downloading gurobipy-12.0.0-cp310-cp310-manylinux2014_x86_64.manylinux_2_17_x86_64.whl.metadata (15 kB)\n",
            "Downloading gurobipy-12.0.0-cp310-cp310-manylinux2014_x86_64.manylinux_2_17_x86_64.whl (14.4 MB)\n",
            "\u001b[2K   \u001b[90m━━━━━━━━━━━━━━━━━━━━━━━━━━━━━━━━━━━━━━━━\u001b[0m \u001b[32m14.4/14.4 MB\u001b[0m \u001b[31m53.9 MB/s\u001b[0m eta \u001b[36m0:00:00\u001b[0m\n",
            "\u001b[?25hInstalling collected packages: gurobipy\n",
            "Successfully installed gurobipy-12.0.0\n"
          ]
        }
      ],
      "source": [
        "# install gurobipy first\n",
        "! pip install gurobipy"
      ]
    },
    {
      "cell_type": "code",
      "source": [
        "import gurobipy as gp\n",
        "import numpy as np\n",
        "from gurobipy import GRB"
      ],
      "metadata": {
        "id": "pxw8aPHb29xQ"
      },
      "execution_count": null,
      "outputs": []
    },
    {
      "cell_type": "markdown",
      "source": [
        "### **1 Dynamic Programming Review**\n",
        "\n",
        "Dynamic Programming (DP) is a powerful optimization technique used to solve complex problems by breaking them down into simpler subproblems. Unlike mathematical programming approaches, DP provides a general and versatile framework that can address problems not easily formulated as linear or integer programs. (Many real-life problems often cannot be formulated as linear or mathematical programs.)\n",
        "\n",
        "In DP, the problem is divided into several stages, each with:\n",
        "- **Stages** $n = 1, 2, \\cdots, N$: A sequence of decision points.\n",
        "- **State Variables** $s_n$: Describe the current state, containing all necessary information to make the next decision.\n",
        "- **Decision Variables** $x_n$: The choices available at each stage, which affect the next state.\n",
        "- **Transition Relations** $s_{n+1} = g_n(s_n, x_n)$: Define how the system moves from one state to another based on the decision made.\n",
        "- **Immediate Return** $h_n(s_n, x_n)$: The reward or cost associated with each decision at each stage.\n",
        "\n",
        "The solution to a dynamic programming problem typically involves **backward recursion**, where we start from the last stage and move backward to calculate the optimal solution. With these basic concepts, we can express the optimal return from stage $n$ to the end of the horizon as:\n",
        "$$\n",
        "f_n(s_n) = \\max_{x_n} \\big[ h_n(s_n, x_n) + f_{n+1}(g_n(s_n, x_n)) \\big]\n",
        "$$\n",
        "\n",
        "This process allows us to calculate the optimal solution by working from the end of the problem back to the start.\n",
        "\n",
        "1. **Initialize the Final Stage**: Start from the last stage, calculating the optimal outcome for each possible state at that stage. This involves setting a base case that defines the final return without further decisions.\n",
        "   - $f_N(s_N) = \\max_{x_N} \\big[ h_N(s_N, x_N) \\big] \\quad \\forall s_N$\n",
        "   \n",
        "2. **Recursive Calculation for Previous Stages**: Move backward through each stage, using the values computed for future stages recursively to determine the optimal decision at each state. By storing these values, we avoid recalculating results for the same states, increasing efficiency.\n",
        "   - $f_{N-1}(s_{N-1}) = \\max_{x_{N-1}} \\big[  h_{N-1}(s_{N-1}, x_{N-1}) + f_{N}(g_{N-1}(s_{N-1}, x_{N-1})) \\big] \\quad \\forall s_{N-1}$\n",
        "   \n",
        "3. **Construct the Optimal Solution**: By the time we reach the first stage, we have determined the sequence of optimal decisions and the total objective value, representing the optimal solution for the entire problem.\n",
        "   - $f_1(s_1) = \\max_{x_1} \\big[  h_1(s_1, x_1) + f_2(g_1(s_1, x_1)) \\big]$"
      ],
      "metadata": {
        "id": "1vo4zQ3s8Cmg"
      }
    },
    {
      "cell_type": "markdown",
      "source": [
        "### **2 Recursion Review**\n",
        "\n",
        "Recursion is a problem-solving technique where a function calls itself to solve smaller instances of the same problem. It’s particularly useful when a problem can naturally be divided into similar subproblems. A recursive solution typically has:\n",
        "\n",
        "1. **Base Case**: This stops the recursion once a condition is met.\n",
        "2. **Recursive Case**: The function calls itself to solve a smaller subproblem, moving closer to the base case with each call.\n",
        "\n",
        "In Dynamic Programming, recursion helps to break down a complex problem into simpler subproblems. However, DP often adds **memoization** to recursion, storing intermediate results to avoid redundant calculations."
      ],
      "metadata": {
        "id": "ow-Pt6VZMx9_"
      }
    },
    {
      "cell_type": "markdown",
      "source": [
        "#### Example Problem: Fibonacci Sequence (LeetCode #509)\n",
        "\n",
        "The Fibonacci sequence is a classic example of recursion. Each term is the sum of the two preceding terms, with the sequence starting as $0, 1, 1, 2, 3, 5, \\ldots$\n",
        "\n",
        "The recursive formula is:\n",
        "$$\n",
        "F(n) = F(n-1) + F(n-2)\n",
        "$$\n",
        "\n",
        "Here’s a simple Python solution that uses recursion:"
      ],
      "metadata": {
        "id": "KVi_m130NFV7"
      }
    },
    {
      "cell_type": "code",
      "source": [
        "def fibonacci(n):\n",
        "    # Base cases\n",
        "    if n == 0:\n",
        "        return 0\n",
        "    elif n == 1:\n",
        "        return 1\n",
        "    # Recursive case\n",
        "    return fibonacci(n-1) + fibonacci(n-2)"
      ],
      "metadata": {
        "id": "2HVEniE5N2WC"
      },
      "execution_count": null,
      "outputs": []
    },
    {
      "cell_type": "code",
      "source": [
        "import time\n",
        "start = time.time()\n",
        "print(fibonacci(40))\n",
        "end = time.time()\n",
        "print(f\"{end - start:.7f} sec.\")"
      ],
      "metadata": {
        "id": "w9IILxZ9QY3k"
      },
      "execution_count": null,
      "outputs": []
    },
    {
      "cell_type": "markdown",
      "source": [
        "While this solution is straightforward, it’s inefficient for large inputs because function recursively calls itself twice for each non-base case:\n",
        "\n",
        "$$\n",
        "F(n) = F(n−1) + F(n−2)\n",
        "$$\n",
        "\n",
        "This results in a binary recursion tree, where each call spawns two new recursive calls. The total number of calls grows exponentially ($O(n) = 2^n$).\n",
        "\n",
        "For example, computing $F(5)$ results in the following call tree:\n",
        "\n",
        "```\n",
        "                      F(5)\n",
        "                    /      \\\n",
        "              F(4)           F(3)\n",
        "             /    \\          /   \\\n",
        "         F(3)    F(2)      F(2)  F(1)\n",
        "        /  \\     /  \\      /  \\\n",
        "     F(2) F(1) F(1) F(0) F(1) F(0)\n",
        "    /  \\\n",
        "F(1) F(0)\n",
        "```\n",
        "Each node represents a recursive function call. The number of function calls grows exponentially."
      ],
      "metadata": {
        "id": "-8JMQtBWOBhx"
      }
    },
    {
      "cell_type": "markdown",
      "source": [
        "We can improve the efficiency by storing computed values, known as **memoization**, to avoid redundant calculations."
      ],
      "metadata": {
        "id": "OHSLqpiwO1MY"
      }
    },
    {
      "cell_type": "code",
      "source": [
        "def fibonacci(n, memo={}):\n",
        "    # base cases\n",
        "    if n == 0:\n",
        "        return 0\n",
        "    elif n == 1:\n",
        "        return 1\n",
        "    # check if value is already computed\n",
        "    if n in memo:\n",
        "        return memo[n]\n",
        "    # recursive calculation with memoization\n",
        "    memo[n] = fibonacci(n-1, memo) + fibonacci(n-2, memo)\n",
        "    return memo[n]"
      ],
      "metadata": {
        "id": "eOg9s4JwOT5W"
      },
      "execution_count": null,
      "outputs": []
    },
    {
      "cell_type": "code",
      "source": [
        "import time\n",
        "start = time.time()\n",
        "print(fibonacci(40))\n",
        "end = time.time()\n",
        "print(f\"{end - start:.7f} sec.\")"
      ],
      "metadata": {
        "id": "QyE8A-jkQaov"
      },
      "execution_count": null,
      "outputs": []
    },
    {
      "cell_type": "markdown",
      "source": [
        "### **3 Problem Statement**\n",
        "\n",
        "An electronic system consists of four components: A, B, C, and D. The system requires all four components to function, and its reliability can be increased by adding parallel units for one or more of these components. The reliability and cost for different numbers of parallel components are shown in the tables below.\n",
        "\n",
        "##### Probability of Functioning\n",
        "\n",
        "| # of Units | Reliability of A | Reliability of B | Reliability of C | Reliability of D |\n",
        "|------------|------------------|------------------|------------------|------------------|\n",
        "| 1          | 0.5              | 0.6              | 0.7              | 0.5              |\n",
        "| 2          | 0.6              | 0.7              | 0.8              | 0.7              |\n",
        "| 3          | 0.8              | 0.8              | 0.9              | 0.9              |\n",
        "\n",
        "##### Cost\n",
        "\n",
        "| # of Units | Cost of A | Cost of B | Cost of C | Cost of D |\n",
        "|------------|-----------|-----------|-----------|-----------|\n",
        "| 1          | \\$100     | \\$200     | \\$100     | \\$200     |\n",
        "| 2          | \\$200     | \\$400     | \\$300     | \\$300     |\n",
        "| 3          | \\$300     | \\$500     | \\$400     | \\$400     |\n",
        "\n",
        "##### Goal\n",
        "\n",
        "Given a budget of $1000, determine how the money should be allocated to maximize the system's reliability."
      ],
      "metadata": {
        "id": "99yDysZi3ex1"
      }
    },
    {
      "cell_type": "code",
      "source": [
        "# parameters\n",
        "reliabilities = {\n",
        "    \"A\": [0, 0.5, 0.6, 0.8],\n",
        "    \"B\": [0, 0.6, 0.7, 0.8],\n",
        "    \"C\": [0, 0.7, 0.8, 0.9],\n",
        "    \"D\": [0, 0.5, 0.7, 0.9]\n",
        "}\n",
        "costs = {\n",
        "    \"A\": [0, 100, 200, 300],\n",
        "    \"B\": [0, 200, 400, 500],\n",
        "    \"C\": [0, 100, 300, 400],\n",
        "    \"D\": [0, 200, 300, 400]\n",
        "}\n",
        "\n",
        "# indices\n",
        "components = [\"A\", \"B\", \"C\", \"D\"]\n",
        "units = [1, 2, 3]"
      ],
      "metadata": {
        "id": "6EL19Cg18rm8"
      },
      "execution_count": null,
      "outputs": []
    },
    {
      "cell_type": "markdown",
      "source": [
        "### Mathematical Programming\n",
        "\n",
        "1. Build an integer linear model formulation. (Hint: $P_A \\times P_B \\times P_C \\times P_D \\rightarrow \\log(P_A) + \\log(P_B) + \\log(P_C) + \\log(P_D)$.)\n",
        "2. Solve the model with Gurobi."
      ],
      "metadata": {
        "id": "9ULxPaHI5VuZ"
      }
    },
    {
      "cell_type": "code",
      "source": [
        "# create a model\n",
        "m = gp.Model(\"System Reliability\")\n",
        "# variables\n",
        "x = m.addVars(components, units, vtype=GRB.BINARY, name=\"x\")"
      ],
      "metadata": {
        "id": "W1RnPnAh3Aak"
      },
      "execution_count": null,
      "outputs": []
    },
    {
      "cell_type": "code",
      "source": [
        "print(\"Solutions:\")\n",
        "obj_val = 1\n",
        "for c, u in x:\n",
        "    if x[c,u].x >= 1 - 1e-3:\n",
        "        print(\"Component {}: {} units.\".format(c, u))\n",
        "        obj_val *= reliabilities[c][u]\n",
        "print(\"Maximum Reliability: {:.4f}\".format(obj_val))"
      ],
      "metadata": {
        "id": "3T_nzEnKZnl7"
      },
      "execution_count": null,
      "outputs": []
    },
    {
      "cell_type": "markdown",
      "source": [
        "### Dynamic Programming\n",
        "\n",
        "- Stages $n = A, B, C, D$:\n",
        "  - Each stage represents a component in the system: A, B, C, and D.\n",
        "  - For each stage, we decide how many units of the current component to include (1, 2, or 3).\n",
        "\n",
        "- State Variables $s_n$:\n",
        "  - $s_n$ is the remaining budget after choosing units for components up to stage $n$.\n",
        "  - The initial state, $s_1$, is the full budget (\\$1,000).\n",
        "\n",
        "- Decision Variables $x_n$:\n",
        "  - $x_n$ represents the number of units (1, 2, or 3) chosen for component $n$ (e.g., A, B, C, or D).\n",
        "  - These decision variables determine both the cost and the reliability contribution of each component.\n",
        "\n",
        "- Transition Relations $s_{n+1} = s_n - \\text{cost}(x_n)$:\n",
        "  - The transition describes how the budget changes from one stage to the next.\n",
        "  - For a given $s_n$, choosing $x_n$ reduces the remaining budget based on the cost of the chosen units for component $n$.\n",
        "\n",
        "- Immediate Return $h_n(s_n, x_n)$:\n",
        "  - The immediate return at each stage is the reliability of the chosen units for that component, $\\text{reliability}(x_n)$.\n",
        "\n",
        "\n",
        "- Optimal Return $f(s_n, x_n)$\n",
        "  - Since system reliability is determined by the product of individual component reliabilities, we define the cumulative reliability function $f(s_n, x_n) = \\max_{x_n} \\big[ h_n(s_n, x_n) \\times f(s_{n-1}) \\big]$."
      ],
      "metadata": {
        "id": "mONT-AUi6sgE"
      }
    },
    {
      "cell_type": "markdown",
      "source": [
        "Question:\n",
        "\n",
        "- What value of base case $f(s_0)$ should be set?"
      ],
      "metadata": {
        "id": "ep0aLwFFQecM"
      }
    },
    {
      "cell_type": "markdown",
      "source": [
        "1.  Use the table structure below to record each decision and result. Work from Component A to Component D, updating the corresponding optimal choices for each stage.\n",
        "\n",
        "| Stage / Decsion | 1 Unit | 2 Units | 3 Units |\n",
        "|-------------------|------------------|--------------------|--------------------|\n",
        "| **A**             |                  |                    |                    |\n",
        "| **B**             |                  |                    |                    |\n",
        "| **C**             |                  |                    |                    |\n",
        "| **D**             |                  |                    |                    |\n"
      ],
      "metadata": {
        "id": "wXvDhN9GJxvC"
      }
    },
    {
      "cell_type": "markdown",
      "source": [
        "2. Use dynamic programming finds the maximize system reliability."
      ],
      "metadata": {
        "id": "wf4gC5CVJAfd"
      }
    },
    {
      "cell_type": "code",
      "source": [
        "# recursive dynamic programming function\n",
        "def dp(comp_ind, budget, memo={}):\n",
        "    # base case: no components left\n",
        "    if comp_ind >= len(components):\n",
        "        max_reliability, best_units = 1, []\n",
        "        return max_reliability, best_units\n",
        "    # check if solution already computed in memo\n",
        "    if (comp_ind, budget) in memo:\n",
        "        return memo[comp_ind, budget]\n",
        "    # init setting\n",
        "    max_reliability = 0\n",
        "    best_units = []\n",
        "    c = components[comp_ind]\n",
        "    # recursive case: try all unit options for the current component\n",
        "    for u in units:\n",
        "        cost = costs[c][u]\n",
        "        # check if feasible\n",
        "        if budget >= cost:\n",
        "            # TODO: recursive dp\n",
        "            reliability, units_used = dp()\n",
        "            # TODO: calculate current reliability\n",
        "            current_reliability =\n",
        "            # get best one\n",
        "            if current_reliability > max_reliability:\n",
        "                max_reliability = current_reliability\n",
        "                best_units = [u] + units_used\n",
        "    # memoize\n",
        "    # TODO: update memeory\n",
        "    memo[comp_ind, budget] =\n",
        "    # return the result\n",
        "    return max_reliability, best_units"
      ],
      "metadata": {
        "id": "lguDr6c09HJe"
      },
      "execution_count": null,
      "outputs": []
    },
    {
      "cell_type": "code",
      "source": [
        "# solve\n",
        "max_reliability, unit_configuration = dp(comp_ind=0, budget=1000)\n",
        "# solution\n",
        "print(\"Solutions:\")\n",
        "obj_val = 1\n",
        "for i, c in enumerate(components):\n",
        "    print(\"Component {}: {} units.\".format(c, unit_configuration[i]))\n",
        "print(\"Maximum Reliability: {:.4f}\".format(max_reliability))"
      ],
      "metadata": {
        "id": "Cyba5qT89HSG"
      },
      "execution_count": null,
      "outputs": []
    },
    {
      "cell_type": "code",
      "source": [],
      "metadata": {
        "id": "uYpFIW8O6rtY"
      },
      "execution_count": null,
      "outputs": []
    }
  ]
}