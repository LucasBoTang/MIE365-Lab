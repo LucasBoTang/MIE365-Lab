{
 "cells": [
  {
   "cell_type": "markdown",
   "metadata": {
    "id": "P1pI6n0VvsBq"
   },
   "source": [
    "# Lab 01: Gurobi Basics\n",
    "\n",
    "Made & Presented by Bo Tang\n",
    "\n",
    "In this lab, you will explore constrained optimization with Gurobi and Python. You will gain hands-on experience with gurobipy and solve optimization problems"
   ]
  },
  {
   "cell_type": "markdown",
   "metadata": {
    "id": "DVv4XUwfwCn1"
   },
   "source": [
    "## Install\n",
    "\n",
    "First, we need install Gurobi, apply the academic license [here](https://www.gurobi.com/).\n",
    "\n",
    "Then, we can install GurobiPy via Pip."
   ]
  },
  {
   "cell_type": "code",
   "execution_count": null,
   "metadata": {
    "colab": {
     "base_uri": "https://localhost:8080/"
    },
    "id": "j0V70pE6vqrL",
    "outputId": "e11bed3e-ae59-4141-aaea-f3eec6104595"
   },
   "outputs": [
    {
     "name": "stdout",
     "output_type": "stream",
     "text": [
      "Requirement already satisfied: gurobipy in /usr/local/lib/python3.10/dist-packages (11.0.3)\n"
     ]
    }
   ],
   "source": [
    "! pip install gurobipy"
   ]
  },
  {
   "cell_type": "code",
   "execution_count": null,
   "metadata": {
    "id": "F7Nb50rSxHzU"
   },
   "outputs": [],
   "source": [
    "import gurobipy as gp\n",
    "from gurobipy import GRB"
   ]
  },
  {
   "cell_type": "markdown",
   "metadata": {
    "id": "XTNmjlQRw3rb"
   },
   "source": [
    "## Linear Programming Example\n",
    "\n",
    "We will start by solving a simple linear programming problem:\n",
    "\n",
    "**Maximize**  \n",
    "$$z = 5x + 3y$$\n",
    "\n",
    "**subject to**  \n",
    "$$2x + y \\leq 6$$\n",
    "$$x + 2y \\leq 6$$\n",
    "$$x, y \\geq 0$$"
   ]
  },
  {
   "cell_type": "code",
   "execution_count": null,
   "metadata": {
    "colab": {
     "base_uri": "https://localhost:8080/"
    },
    "id": "TWsqkwMsxDA0",
    "outputId": "0234fb57-71c1-49ec-9876-21f97de7e46b"
   },
   "outputs": [
    {
     "name": "stdout",
     "output_type": "stream",
     "text": [
      "Gurobi Optimizer version 11.0.3 build v11.0.3rc0 (linux64 - \"Ubuntu 22.04.3 LTS\")\n",
      "\n",
      "CPU model: Intel(R) Xeon(R) CPU @ 2.20GHz, instruction set [SSE2|AVX|AVX2]\n",
      "Thread count: 1 physical cores, 2 logical processors, using up to 2 threads\n",
      "\n",
      "Optimize a model with 2 rows, 2 columns and 4 nonzeros\n",
      "Model fingerprint: 0xd7f6b1a8\n",
      "Coefficient statistics:\n",
      "  Matrix range     [1e+00, 2e+00]\n",
      "  Objective range  [3e+00, 5e+00]\n",
      "  Bounds range     [0e+00, 0e+00]\n",
      "  RHS range        [6e+00, 6e+00]\n",
      "Presolve time: 0.01s\n",
      "Presolved: 2 rows, 2 columns, 4 nonzeros\n",
      "\n",
      "Iteration    Objective       Primal Inf.    Dual Inf.      Time\n",
      "       0    8.0000000e+30   3.000000e+30   8.000000e+00      0s\n",
      "       2    1.6000000e+01   0.000000e+00   0.000000e+00      0s\n",
      "\n",
      "Solved in 2 iterations and 0.02 seconds (0.00 work units)\n",
      "Optimal objective  1.600000000e+01\n",
      "x: 2.0\n",
      "y: 2.0\n",
      "Optimal objective value: 16.0\n"
     ]
    }
   ],
   "source": [
    "# Create a new model\n",
    "model = gp.Model(\"lp_example\")\n",
    "\n",
    "# Add variables\n",
    "x = model.addVar(name=\"x\")  # x >= 0 is default lower bound\n",
    "y = model.addVar(name=\"y\")  # y >= 0 is default lower bound\n",
    "\n",
    "# Set objective function\n",
    "model.setObjective(5*x + 3*y, GRB.MAXIMIZE)\n",
    "\n",
    "# Add constraints\n",
    "model.addConstr(2*x + y <= 6, \"c0\")\n",
    "model.addConstr(x + 2*y <= 6, \"c1\")\n",
    "\n",
    "# Solve the model\n",
    "model.optimize()\n",
    "\n",
    "# Print the results\n",
    "if model.status == GRB.OPTIMAL:\n",
    "    print(f\"x: {x.X}\")\n",
    "    print(f\"y: {y.X}\")\n",
    "    print(f\"Optimal objective value: {model.ObjVal}\")"
   ]
  },
  {
   "cell_type": "markdown",
   "metadata": {
    "id": "IV34-BD2xolA"
   },
   "source": [
    "### Mixed-Integer Programming (MIP)\n",
    "\n",
    "Now, we introduce how to solve a mixed-integer programming (MIP) problem where variables can only take integer values.\n",
    "\n",
    "For example, let's solve:\n",
    "\n",
    "**Maximize**  \n",
    "$$z = 4x_1 + 6x_2 $$\n",
    "\n",
    "**subject to**  \n",
    "$$x_1 + x_2 \\leq 5$$\n",
    "$$x_1, x_2 \\in \\{0, 1, 2, 3, 4, 5\\}$$"
   ]
  },
  {
   "cell_type": "code",
   "execution_count": null,
   "metadata": {
    "colab": {
     "base_uri": "https://localhost:8080/"
    },
    "id": "c4zqKq4Pxdyg",
    "outputId": "657424ae-87ee-4f10-ff6a-b7a4925870f6"
   },
   "outputs": [
    {
     "name": "stdout",
     "output_type": "stream",
     "text": [
      "Gurobi Optimizer version 11.0.3 build v11.0.3rc0 (linux64 - \"Ubuntu 22.04.3 LTS\")\n",
      "\n",
      "CPU model: Intel(R) Xeon(R) CPU @ 2.20GHz, instruction set [SSE2|AVX|AVX2]\n",
      "Thread count: 1 physical cores, 2 logical processors, using up to 2 threads\n",
      "\n",
      "Optimize a model with 1 rows, 2 columns and 2 nonzeros\n",
      "Model fingerprint: 0xe122815f\n",
      "Variable types: 0 continuous, 2 integer (0 binary)\n",
      "Coefficient statistics:\n",
      "  Matrix range     [1e+00, 1e+00]\n",
      "  Objective range  [4e+00, 6e+00]\n",
      "  Bounds range     [0e+00, 0e+00]\n",
      "  RHS range        [5e+00, 5e+00]\n",
      "Found heuristic solution: objective 20.0000000\n",
      "Presolve removed 1 rows and 2 columns\n",
      "Presolve time: 0.00s\n",
      "Presolve: All rows and columns removed\n",
      "\n",
      "Explored 0 nodes (0 simplex iterations) in 0.04 seconds (0.00 work units)\n",
      "Thread count was 1 (of 2 available processors)\n",
      "\n",
      "Solution count 2: 30 20 \n",
      "\n",
      "Optimal solution found (tolerance 1.00e-04)\n",
      "Best objective 3.000000000000e+01, best bound 3.000000000000e+01, gap 0.0000%\n",
      "x1: -0.0\n",
      "x2: 5.0\n",
      "Optimal objective value: 30.0\n"
     ]
    }
   ],
   "source": [
    "import gurobipy as gp\n",
    "from gurobipy import GRB\n",
    "\n",
    "# Create a new model\n",
    "mip_model = gp.Model(\"mip_example\")\n",
    "\n",
    "# Add integer variables\n",
    "x1 = mip_model.addVar(vtype=GRB.INTEGER, name=\"x1\")\n",
    "x2 = mip_model.addVar(vtype=GRB.INTEGER, name=\"x2\")\n",
    "\n",
    "# Set objective function\n",
    "mip_model.setObjective(4*x1 + 6*x2, GRB.MAXIMIZE)\n",
    "\n",
    "# Add constraints\n",
    "mip_model.addConstr(x1 + x2 <= 5, \"constraint1\")\n",
    "\n",
    "# Optimize the model\n",
    "mip_model.optimize()\n",
    "\n",
    "# Print the results\n",
    "if mip_model.status == GRB.OPTIMAL:\n",
    "    print(f\"x1: {x1.X}\")\n",
    "    print(f\"x2: {x2.X}\")\n",
    "    print(f\"Optimal objective value: {mip_model.ObjVal}\")"
   ]
  },
  {
   "cell_type": "markdown",
   "metadata": {
    "id": "OidI1i5dx7rI"
   },
   "source": [
    "## Sensitivity Analysis\n",
    "\n",
    "Once you've solved a linear programming problem, you can access additional information, such as shadow prices or dual values.\n",
    "\n",
    "Here’s an example of how to retrieve and print this information:"
   ]
  },
  {
   "cell_type": "code",
   "execution_count": null,
   "metadata": {
    "colab": {
     "base_uri": "https://localhost:8080/"
    },
    "id": "1XiN6WCAxxPa",
    "outputId": "9a510699-5767-43fe-a32f-a4e7bb91f759"
   },
   "outputs": [
    {
     "name": "stdout",
     "output_type": "stream",
     "text": [
      "c0: Shadow Price = 2.3333333333333335\n",
      "c1: Shadow Price = 0.3333333333333333\n"
     ]
    }
   ],
   "source": [
    "for constr in model.getConstrs():\n",
    "    print(f\"{constr.ConstrName}: Shadow Price = {constr.Pi}\")"
   ]
  },
  {
   "cell_type": "markdown",
   "metadata": {
    "id": "aUB2HQeEyJpr"
   },
   "source": [
    "## Nonlinear Programming (NLP)\n",
    "\n",
    "Gurobi can handle certain types of nonlinear programming models. However, nonlinear constraints need to be reformulated for compatibility with Gurobi. Let’s consider a simple nonlinear problem:"
   ]
  },
  {
   "cell_type": "code",
   "execution_count": null,
   "metadata": {
    "colab": {
     "base_uri": "https://localhost:8080/"
    },
    "id": "HLK3xr5nyC03",
    "outputId": "df8bae63-3c18-4632-862e-98003b35bea2"
   },
   "outputs": [
    {
     "name": "stdout",
     "output_type": "stream",
     "text": [
      "Gurobi Optimizer version 11.0.3 build v11.0.3rc0 (linux64 - \"Ubuntu 22.04.3 LTS\")\n",
      "\n",
      "CPU model: Intel(R) Xeon(R) CPU @ 2.20GHz, instruction set [SSE2|AVX|AVX2]\n",
      "Thread count: 1 physical cores, 2 logical processors, using up to 2 threads\n",
      "\n",
      "Optimize a model with 1 rows, 2 columns and 2 nonzeros\n",
      "Model fingerprint: 0xd2d7cf7f\n",
      "Model has 2 quadratic objective terms\n",
      "Coefficient statistics:\n",
      "  Matrix range     [1e+00, 1e+00]\n",
      "  Objective range  [0e+00, 0e+00]\n",
      "  QObjective range [2e+00, 2e+00]\n",
      "  Bounds range     [0e+00, 0e+00]\n",
      "  RHS range        [1e+01, 1e+01]\n",
      "\n",
      "Continuous model is non-convex -- solving as a MIP\n",
      "\n",
      "Found heuristic solution: objective -0.0000000\n",
      "Presolve time: 0.00s\n",
      "Presolved: 4 rows, 5 columns, 9 nonzeros\n",
      "Presolved model has 2 bilinear constraint(s)\n",
      "Variable types: 5 continuous, 0 integer (0 binary)\n",
      "Found heuristic solution: objective 50.0000000\n",
      "\n",
      "Root relaxation: objective 1.000000e+02, 5 iterations, 0.00 seconds (0.00 work units)\n",
      "\n",
      "    Nodes    |    Current Node    |     Objective Bounds      |     Work\n",
      " Expl Unexpl |  Obj  Depth IntInf | Incumbent    BestBd   Gap | It/Node Time\n",
      "\n",
      "*    0     0               0     100.0000000  100.00000  0.00%     -    0s\n",
      "\n",
      "Explored 1 nodes (5 simplex iterations) in 0.07 seconds (0.00 work units)\n",
      "Thread count was 2 (of 2 available processors)\n",
      "\n",
      "Solution count 3: 100 50 -0 \n",
      "\n",
      "Optimal solution found (tolerance 1.00e-04)\n",
      "Best objective 1.000000000000e+02, best bound 1.000000000000e+02, gap 0.0000%\n"
     ]
    }
   ],
   "source": [
    "nlp_model = gp.Model(\"nonlinear_example\")\n",
    "\n",
    "# Add variables\n",
    "x = nlp_model.addVar(name=\"x\")\n",
    "y = nlp_model.addVar(name=\"y\")\n",
    "\n",
    "# Add nonlinear objective (e.g., maximizing x^2 + y^2)\n",
    "nlp_model.setObjective(x**2 + y**2, GRB.MAXIMIZE)\n",
    "\n",
    "# Add a constraint\n",
    "nlp_model.addConstr(x + y <= 10, \"c0\")\n",
    "\n",
    "# Optimize\n",
    "nlp_model.optimize()"
   ]
  },
  {
   "cell_type": "markdown",
   "metadata": {
    "id": "wcuIODlqyV98"
   },
   "source": [
    "## Conclusion\n",
    "\n",
    "This tutorial provided a brief introduction to solving optimization problems using GurobiPy, including linear programming, mixed-integer programming, and sensitivity analysis. For more advanced uses, such as nonlinear optimization, refer to the Gurobi documentation."
   ]
  },
  {
   "cell_type": "code",
   "execution_count": null,
   "metadata": {
    "id": "ktbqKvckyP35"
   },
   "outputs": [],
   "source": []
  }
 ],
 "metadata": {
  "colab": {
   "provenance": []
  },
  "kernelspec": {
   "display_name": "Python 3 (ipykernel)",
   "language": "python",
   "name": "python3"
  },
  "language_info": {
   "codemirror_mode": {
    "name": "ipython",
    "version": 3
   },
   "file_extension": ".py",
   "mimetype": "text/x-python",
   "name": "python",
   "nbconvert_exporter": "python",
   "pygments_lexer": "ipython3",
   "version": "3.11.5"
  }
 },
 "nbformat": 4,
 "nbformat_minor": 4
}
