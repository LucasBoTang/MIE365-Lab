{
  "nbformat": 4,
  "nbformat_minor": 0,
  "metadata": {
    "colab": {
      "provenance": []
    },
    "kernelspec": {
      "name": "python3",
      "display_name": "Python 3"
    },
    "language_info": {
      "name": "python"
    }
  },
  "cells": [
    {
      "cell_type": "markdown",
      "source": [
        "# Lab 07 Network Programming\n",
        "\n",
        "Made & Presented by Bo Tang\n",
        "\n",
        "In this lab, we will discuss the fundamental concepts of Network Programming and its application in optimizing flows and decision-making in networked systems. We will explore various network optimization problems, including shortest path, minimum cost flow, and maximum flow problems, and formulate them as linear programming (LP) models. These formulations will incorporate flow conservation, capacity constraints, and cost minimization objectives. Additionally, we will demonstrate how to use network simplex methods with Gurobi to efficiently solve network optimization problems."
      ],
      "metadata": {
        "id": "837vUqW8w9hK"
      }
    },
    {
      "cell_type": "code",
      "execution_count": null,
      "metadata": {
        "id": "8-pfhHTbwVYl"
      },
      "outputs": [],
      "source": [
        "# install gurobipy first\n",
        "! pip install gurobipy"
      ]
    },
    {
      "cell_type": "code",
      "source": [
        "import gurobipy as gp\n",
        "import numpy as np\n",
        "from gurobipy import GRB"
      ],
      "metadata": {
        "id": "Q5EoGJG1xboq"
      },
      "execution_count": null,
      "outputs": []
    },
    {
      "cell_type": "markdown",
      "source": [
        "Network optimization problems arise in various fields, such as transportation, logistics, telecommunications, and supply chain management. These problems typically involve **nodes** (locations) and **edges** (routes, connections, or flows) with associated costs or capacities.\n",
        "\n",
        "\n",
        "## **1. Notations**  \n",
        "\n",
        "A network is typically represented as a **graph** $G = (N, E)$, where:  \n",
        "- $N$ is the set of **nodes** (or vertices), representing locations, facilities, or entities.  \n",
        "- $E$ is the set of **edges** (or arcs), representing connections, transportation routes, or communication links.\n",
        "\n",
        "Each edge $(i, j) \\in E$ has associated properties:  \n",
        "- **Flow $x_{ij}$**: The amount of goods, traffic, or information moving from node $i$ to node $j$.\n",
        "  - This is the **decision variable** in the optimization model, representing the amount of flow allocated to each edge.\n",
        "- **Capacity $c_{ij}$**: The maximum allowable flow on edge $(i, j)$.\n",
        "  - This is a **constraint parameter** that limits how much flow can pass through an edge.\n",
        "- **Cost $d_{ij}$**: The cost per unit of flow on edge $(i, j)$.\n",
        "   - This is often included in the **objective function** to minimize the total transportation or operational cost.  \n",
        "     \n",
        "In many flow-based network optimization problems, we define:  \n",
        "- **Source node $s \\in N$**: The node where the flow originates (e.g., a supply center or factory).  \n",
        "- **Sink node $t \\in N$**: The node where the flow is destined (e.g., a demand center or distribution hub).\n",
        "\n",
        "Additionally, source and sink nodes may have:  \n",
        "- **Supply $S_i$**: The amount of resources available at node $i$ (if it is a source).  \n",
        "- **Demand $D_i$**: The amount of resources required at node $i$ (if it is a sink)."
      ],
      "metadata": {
        "id": "0aGCLJx9y9SE"
      }
    },
    {
      "cell_type": "markdown",
      "source": [
        "## **2. Constraints**\n",
        "\n",
        "At the core of network optimization is the idea of flow management, where goods, information, or resources move from one node to another while satisfying **capacity**, **supply**, **demand** and **flow conservation** constraints."
      ],
      "metadata": {
        "id": "bTi-ZOYdE9AQ"
      }
    },
    {
      "cell_type": "markdown",
      "source": [
        "### 2.1 Capacity Constraints\n",
        "\n",
        "This constraint ensures that no edge carries more flow than its physical or operational limit allows. Each edge $(i, j) \\in E$ has a **maximum allowable flow** $c_{ij}$, known as its **capacity**. The flow on an edge **cannot exceed its capacity**.\n",
        "\n",
        "For all edges $(i, j) \\in E$, the constraint is:  \n",
        "$$\n",
        "0 \\leq x_{ij} \\leq c_{ij}\n",
        "$$  \n",
        "where:  \n",
        "- $x_{ij}$ is the flow on edge $(i, j)$.  \n",
        "- $c_{ij}$ is the maximum capacity of edge $(i, j)$."
      ],
      "metadata": {
        "id": "I1OGzGY5FJe2"
      }
    },
    {
      "cell_type": "markdown",
      "source": [
        "### 2.2 Supply and Demand Constraints\n",
        "Source and sink nodes impose **supply and demand constraints** to regulate the total flow entering and leaving the network.\n",
        "\n",
        "1. **Supply at Source Nodes**:  \n",
        "   Each source node $s \\in N$ has a supply amount $S_s$, meaning it must send out exactly $S_s$ units of flow:  \n",
        "   $$\n",
        "   \\sum_{(s,j) \\in E} x_{sj} = S_s, \\quad \\forall s \\in N \\text{ (sources)}\n",
        "   $$  \n",
        "   where $S_s > 0$ represents the amount of flow **produced** at source node $s$.  \n",
        "\n",
        "2. **Demand at Sink Nodes**:  \n",
        "   Each sink node $t \\in N$ has a demand amount $D_t$, meaning it must receive exactly $D_t$ units of flow:  \n",
        "   $$\n",
        "   \\sum_{(i,t) \\in E} x_{it} = D_t, \\quad \\forall t \\in N \\text{ (sinks)}\n",
        "   $$  \n",
        "   where $D_t > 0$ represents the amount of flow **consumed** at sink node $t$.  \n",
        "\n",
        "For a **balanced flow network**, the total supply must equal the total demand (**It is not constraints!!!**):  \n",
        "$$\n",
        "\\sum_{s \\in N} S_s = \\sum_{t \\in N} D_t\n",
        "$$  \n",
        "If total supply is **greater than total demand**, the network includes excess flow that must be stored or discarded. If total supply is **less than total demand**, the problem may be **infeasible** unless additional supply sources are introduced."
      ],
      "metadata": {
        "id": "Oq9w9HPJFJlB"
      }
    },
    {
      "cell_type": "markdown",
      "source": [
        "### 2.3 Flow Conservation Constraints\n",
        "\n",
        "This constraint ensures that all flow that enters an intermediate node must also leave it, maintaining **flow balance**. For any **intermediate node** (i.e., a node that is neither a source nor a sink), the total **incoming flow must equal outgoing flow**.\n",
        "\n",
        "Mathematically, for all **intermediate nodes** $i \\in N \\setminus \\{s, t\\}$:  \n",
        "$$\n",
        "\\sum_{(j,i) \\in E} x_{ji} = \\sum_{(i,k) \\in E} x_{ik}\n",
        "$$\n",
        "where:\n",
        "- $\\sum_{(j,i) \\in E} x_{ji}$ represents the **total incoming flow** to node $i$.  \n",
        "- $\\sum_{(i,k) \\in E} x_{ik}$ represents the **total outgoing flow** from node $i$."
      ],
      "metadata": {
        "id": "G_g81DW3FJuu"
      }
    },
    {
      "cell_type": "markdown",
      "source": [
        "### 2.4 Flow Non-Negativity Constraints\n",
        "\n",
        "Flow must always be **non-negative**, meaning that no edge can carry negative flow:  \n",
        "$$\n",
        "x_{ij} \\geq 0, \\quad \\forall (i, j) \\in E\n",
        "$$  \n",
        "This constraint ensures that flow only moves **forward** in the directed network and does not reverse."
      ],
      "metadata": {
        "id": "ICcpfwqGFSsc"
      }
    },
    {
      "cell_type": "markdown",
      "source": [
        "## **3. Network Simplex**\n",
        "\n",
        "The Network Simplex Method is a specialized version of the Simplex Method, optimized for network flow problems. It takes advantage of the graph structure of the problem to efficiently find optimal solutions. Instead of operating on a general LP formulation, the Network Simplex method exploits the sparsity and special properties of network flow, leading to significant computational efficiency.\n",
        "\n",
        "### 3.1 Using the Network Simplex Method in Gurobi\n",
        "\n",
        "Gurobi **automatically recognizes** network flow problems and applies the **Network Simplex Method** when:  \n",
        "- The **objective function** is a **linear cost function** (e.g., minimize transportation cost).  \n",
        "- The **constraints** include:\n",
        "  - **Capacity constraints** on edges.\n",
        "  - **Flow conservation constraints** at intermediate nodes.\n",
        "  - **Supply and demand constraints** at source and sink nodes.\n",
        "\n",
        "If Gurobi detects this **network structure**, it will **automatically switch** to the **Network Simplex solver**, significantly improving performance.\n",
        "\n",
        "Thus, network programming is more about formulation.\n",
        "\n",
        "In addition,  you can explicitly set the **method parameter** in Gurobi:  \n",
        "```python\n",
        "m.setParam(\"Method\", 3)  # Force Gurobi to use the Network Simplex Method\n",
        "```"
      ],
      "metadata": {
        "id": "-n3NnNyZFWJX"
      }
    },
    {
      "cell_type": "markdown",
      "source": [
        "## **4. Common Types of Problems**\n",
        "\n",
        "Depending on the objective, different types of network optimization problems arise, including:\n",
        "\n",
        "- **Shortest Path Problems** (e.g., finding the fastest route from source to destination)  \n",
        "- **Maximum Flow Problems** (e.g., maximizing goods transported through a supply chain)  \n",
        "- **Minimum Cost Flow Problems** (e.g., distributing products at minimal transportation cost)\n",
        "\n",
        "Below, we will explain each problem, provide a practical example, and implement a Gurobi solution."
      ],
      "metadata": {
        "id": "qNQ6vgtJFB1q"
      }
    },
    {
      "cell_type": "markdown",
      "source": [
        "### 4.1 Shortest Path Problem\n",
        "\n",
        "The Shortest Path Problem aims to find the **minimum-cost route** from a source node to a destination node in a weighted network. The edge weights represent distances, time, or costs, and the goal is to minimize the total weight of the path.\n",
        "\n",
        "#### **Why Can We Solve the Shortest Path Problem Using Linear Programming?**\n",
        "\n",
        "Unlike most combinatorial optimization problems, the Shortest Path Problem can be formulated as a Linear Program (LP) and still yield integer solutions, meaning no need for integer programming! This is due to a fundamental property known as total unimodularity.\n",
        "\n",
        "A matrix $A$ is totally unimodular (TUM) if every square submatrix has a determinant of 0, +1, or -1. If $A$ is TUM and the right-hand side (RHS) of the constraints is integer, then solving the LP relaxation automatically produces integer solutions.\n",
        "This eliminates the need for an integer programming solver.\n",
        "Total Unimodularity in the Shortest Path Problem\n",
        "The constraint matrix in the flow-based LP formulation of the Shortest Path Problem is totally unimodular.\n",
        "This means the LP relaxation (where $x_{ij} \\in [0,1]$ instead of $x_{ij} \\in {0,1}$) naturally produces integer solutions without explicitly enforcing integrality.\n",
        "\n",
        "This is why we don’t need to solve an ILP (Integer Linear Program)—the LP relaxation alone guarantees integer solutions.\n",
        "\n",
        "#### **Example Problem**\n",
        "\n",
        "You are given a road network where cities are represented as **nodes**, and roads between them have **distances** (edge weights).\n",
        "\n",
        "```\n",
        "   (A)\n",
        "   / \\\n",
        "  4   2\n",
        " /     \\\n",
        "(B)---(C)---(D)\n",
        "   1      3\n",
        "```\n",
        "\n",
        "Your task is to find the **shortest path from City A to City D**.\n"
      ],
      "metadata": {
        "id": "1HxfMd69Mj-K"
      }
    },
    {
      "cell_type": "code",
      "source": [
        "# define graph: nodes and edges with distances\n",
        "nodes = [\"A\", \"B\", \"C\", \"D\"]\n",
        "edges, distances = gp.multidict({\n",
        "    (\"A\", \"B\"): 4,\n",
        "    (\"A\", \"C\"): 2,\n",
        "    (\"B\", \"C\"): 1,\n",
        "    (\"C\", \"D\"): 3\n",
        "})"
      ],
      "metadata": {
        "id": "4I1zOw6Qxf2O"
      },
      "execution_count": null,
      "outputs": []
    },
    {
      "cell_type": "code",
      "source": [
        "# create model\n",
        "m = gp.Model(\"ShortestPath\")\n",
        "\n",
        "# decision variables: flow on each edge\n",
        "x = m.addVars(edges, lb=0, ub=1, vtype=GRB.CONTINUOUS, name=\"x\")\n",
        "\n",
        "# objective: Minimize total distance traveled\n",
        "m.setObjective(gp.quicksum(distances[i, j] * x[i, j] for i, j in edges), GRB.MINIMIZE)\n",
        "\n",
        "# TODO:constraints\n",
        "m.addConstr\n",
        "\n",
        "# solve model\n",
        "m.optimize()\n",
        "\n",
        "# print results\n",
        "if m.status == GRB.OPTIMAL:\n",
        "    print(f\"\\nOptimal Distance: {m.objVal}\")\n",
        "    print(\"Edges used in the shortest path:\")\n",
        "    for i, j in edges:\n",
        "        if x[i, j].x > 0.5:\n",
        "            print(f\"  {i} → {j}\")"
      ],
      "metadata": {
        "id": "-u1pgLIXSoRx"
      },
      "execution_count": null,
      "outputs": []
    },
    {
      "cell_type": "markdown",
      "source": [
        "### 4.2 Maximum Flow Problem\n",
        "\n",
        "The Maximum Flow Problem aims to maximize the total amount of flow that can be sent from a source to a sink, subject to **capacity constraints** on each edge.  \n",
        "\n",
        "This problem is widely used in **logistics, telecommunications, and network design**, where the goal is to find the most efficient way to transport goods, data, or resources through a network while respecting capacity limits.\n",
        "\n",
        "#### **Example Problem**\n",
        "\n",
        "You are given a road network where cities are represented as **nodes**, and roads between them have **distances** (edge weights).\n",
        "\n",
        "```\n",
        "       (S)\n",
        "      /   \\\n",
        "    10     5\n",
        "    /       \\\n",
        "   (A)——————(B)\n",
        "    \\   5   /\n",
        "     5     10\n",
        "      \\   /\n",
        "       (T)\n",
        "\n",
        "```"
      ],
      "metadata": {
        "id": "Km6zRKpKWM9q"
      }
    },
    {
      "cell_type": "code",
      "source": [
        "# define graph: nodes and edges with distances\n",
        "nodes = [\"S\", \"A\", \"B\", \"T\"]\n",
        "edges, capacities = gp.multidict({\n",
        "    (\"S\", \"A\"): 10,\n",
        "    (\"S\", \"B\"): 5,\n",
        "    (\"A\", \"B\"): 5,\n",
        "    (\"A\", \"T\"): 5,\n",
        "    (\"B\", \"T\"): 10\n",
        "})"
      ],
      "metadata": {
        "id": "Hyd4IBM-VAg6"
      },
      "execution_count": null,
      "outputs": []
    },
    {
      "cell_type": "code",
      "source": [
        "# create model\n",
        "m = gp.Model(\"MaxFlow\")\n",
        "\n",
        "# TODO: decision variables: flow on each edge (bounded by capacity)\n",
        "x = m.addVars\n",
        "\n",
        "# TODO: objective (Hint: maximize total flow from S. Why?)\n",
        "m.setObjective\n",
        "\n",
        "# TODO: constraints\n",
        "m.addConstrS\n",
        "\n",
        "# Solve model\n",
        "m.optimize()\n",
        "\n",
        "# Print results\n",
        "if m.status == GRB.OPTIMAL:\n",
        "    print(f\"\\nMaximum Flow: {m.objVal}\")\n",
        "    print(\"Flow distribution:\")\n",
        "    for i, j in edges:\n",
        "        print(f\"  Flow on {i} → {j}: {x[i, j].x}\")"
      ],
      "metadata": {
        "id": "ggXDDttdXT--"
      },
      "execution_count": null,
      "outputs": []
    },
    {
      "cell_type": "markdown",
      "source": [
        "### 4.3 Minimum Cost Flow Problem\n",
        "\n",
        "The Minimum Cost Flow (MCF) Problem is an extension of the **Maximum Flow Problem**. Instead of simply maximizing the total flow from a source to a sink, the goal is to **minimize the total transportation cost** while ensuring that supply and demand constraints are satisfied.  \n",
        "\n",
        "This problem is widely used in **logistics, supply chain management, transportation networks, and telecommunication systems**, where goods, data, or resources must be moved efficiently while minimizing transportation costs.\n",
        "\n",
        "#### **Example Problem**  \n",
        "\n",
        "A company has **two warehouses** supplying goods to **two retail stores**. Each warehouse has a **limited supply**, and each retail store has a **demand** for goods. There are **transportation routes** between warehouses and stores, each with a specific **cost per unit of transportation** and a **maximum transportation capacity**.\n",
        "\n",
        "Here are the capacity and cost tables for the transportation network:\n",
        "\n",
        "###### Capacity Table (Maximum Units that Can Be Transported)\n",
        "| From → To       | Retailer 1 | Retailer 2 |\n",
        "|-----------------|------------|------------|\n",
        "| **Warehouse 1** | 15         | 10         |\n",
        "| **Warehouse 2** | 20         | 15         |\n",
        "| **Retailer 1**  | -          | 10         |\n",
        "\n",
        "###### Cost Table (Cost per Unit of Transportation)\n",
        "| From → To       | Retailer 1 | Retailer 2 |\n",
        "|-----------------|------------|------------|\n",
        "| **Warehouse 1** | 4          | 3          |\n",
        "| **Warehouse 2** | 3          | 1          |\n",
        "| **Retailer 1**  | -          | 5          |\n"
      ],
      "metadata": {
        "id": "_xaRr87KY9-B"
      }
    },
    {
      "cell_type": "code",
      "source": [
        "# define nodes\n",
        "nodes = [\"Warehouse1\", \"Warehouse2\", \"Retailer1\", \"Retailer2\"]\n",
        "\n",
        "# define supply and demand at each node (positive = supply, negative = demand)\n",
        "supply_demand = {\n",
        "    \"Warehouse1\": 20,  # Warehouse 1 supplies 20 units\n",
        "    \"Warehouse2\": 30,  # Warehouse 2 supplies 30 units\n",
        "    \"Retailer1\": -25,  # Retailer 1 requires 25 units\n",
        "    \"Retailer2\": -25   # Retailer 2 requires 25 units\n",
        "}\n",
        "\n",
        "# define edges with (capacity, cost per unit)\n",
        "edges, capacities, costs = gp.multidict({\n",
        "    (\"Warehouse1\", \"Retailer1\"): [15, 4],  # (capacity, cost)\n",
        "    (\"Warehouse1\", \"Retailer2\"): [10, 3],\n",
        "    (\"Warehouse2\", \"Retailer1\"): [20, 3],\n",
        "    (\"Warehouse2\", \"Retailer2\"): [15, 1],\n",
        "    (\"Retailer1\", \"Retailer2\"): [10, 5]\n",
        "})\n"
      ],
      "metadata": {
        "id": "Fc5sBJWmXlqq"
      },
      "execution_count": null,
      "outputs": []
    },
    {
      "cell_type": "code",
      "source": [
        "# Create Gurobi model\n",
        "m = gp.Model(\"MinCostFlow\")\n",
        "\n",
        "# TODO: decision variables: flow on each edge\n",
        "x = m.addVars\n",
        "\n",
        "# TODO: objective\n",
        "m.setObjective\n",
        "\n",
        "# TODO: flow constraints: Inflow - Outflow\n",
        "m.addConstrs\n",
        "\n",
        "# slve model\n",
        "m.optimize()\n",
        "\n",
        "# print results\n",
        "if m.status == GRB.OPTIMAL:\n",
        "    print(f\"\\nMinimum Cost: {m.objVal}\")\n",
        "    print(\"Optimal Transportation Plan:\")\n",
        "    for i, j in edges:\n",
        "        if x[i, j].x > 0:\n",
        "            print(f\"  Send {x[i, j].x:.0f} units from {i} to {j}\")"
      ],
      "metadata": {
        "id": "EgWNLlNobSHD"
      },
      "execution_count": null,
      "outputs": []
    },
    {
      "cell_type": "code",
      "source": [],
      "metadata": {
        "id": "NLyJbvW0bWRl"
      },
      "execution_count": null,
      "outputs": []
    }
  ]
}