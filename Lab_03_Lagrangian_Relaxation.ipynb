{
 "cells": [
  {
   "cell_type": "markdown",
   "metadata": {
    "id": "P6xmO_1WbA1H"
   },
   "source": [
    "# Lab 03: Lagrangian Relaxation\n",
    "\n",
    "Made & Presented by Bo Tang\n",
    "\n",
    "In this lab, you will explore **Lagrangian Relaxation** with Gurobi and Python. You will gain hands-on experience solving complex optimization problems by relaxing difficult constraints, adjusting Lagrange multipliers iteratively, and solving the resulting relaxed subproblems."
   ]
  },
  {
   "cell_type": "code",
   "execution_count": null,
   "metadata": {
    "colab": {
     "base_uri": "https://localhost:8080/"
    },
    "id": "UpAf-Akyrmb2",
    "outputId": "53b6f351-19f6-409b-8a87-d8a6b3ff3c4a"
   },
   "outputs": [
    {
     "name": "stdout",
     "output_type": "stream",
     "text": [
      "Collecting gurobipy\n",
      "  Downloading gurobipy-11.0.3-cp310-cp310-manylinux2014_x86_64.manylinux_2_17_x86_64.whl.metadata (15 kB)\n",
      "Downloading gurobipy-11.0.3-cp310-cp310-manylinux2014_x86_64.manylinux_2_17_x86_64.whl (13.4 MB)\n",
      "\u001b[2K   \u001b[90m━━━━━━━━━━━━━━━━━━━━━━━━━━━━━━━━━━━━━━━━\u001b[0m \u001b[32m13.4/13.4 MB\u001b[0m \u001b[31m29.1 MB/s\u001b[0m eta \u001b[36m0:00:00\u001b[0m\n",
      "\u001b[?25h"
     ]
    }
   ],
   "source": [
    "# install gurobipy first\n",
    "! pip install gurobipy"
   ]
  },
  {
   "cell_type": "code",
   "execution_count": null,
   "metadata": {
    "id": "nE_tmIaisZSF"
   },
   "outputs": [],
   "source": [
    "import gurobipy as gp\n",
    "import numpy as np\n",
    "from gurobipy import GRB"
   ]
  },
  {
   "cell_type": "markdown",
   "metadata": {
    "id": "5Lw3WD8xcNPN"
   },
   "source": [
    "### Lagrangian Relaxation Review\n",
    "\n",
    "Lagrangian Relaxation is an optimization technique used to solve complex constrained problems by relaxing certain constraints and incorporating them into the objective function using Lagrange multipliers. This technique is particularly useful when some constraints make a problem hard to solve directly. By relaxing the constraints, we can decompose the problem into easier subproblems and iteratively adjust the Lagrange multipliers to converge to an optimal solution.\n",
    "\n",
    "Consider the following linear optimization problem, where we aim to minimize the objective function:\n",
    "\n",
    "$$\n",
    "\\min_x \\mathbf{c}^\\top \\mathbf{x}\n",
    "$$\n",
    "Subject to\n",
    "$$\n",
    "\\mathbf{A} \\mathbf{x} \\leq \\mathbf{b}\n",
    "$$\n",
    "$$\n",
    "\\mathbf{D} \\mathbf{x} \\leq \\mathbf{d}\n",
    "$$\n",
    "$$\n",
    "\\mathbf{x} \\geq \\mathbf{0}\n",
    "$$\n",
    "\n",
    "If the constraints $\\mathbf{A} \\mathbf{x} \\leq \\mathbf{b}$ are complicated, we can relax them by removing the constraints and introducing a **penalty term** into the objective function. This penalty term is weighted by a vector of Lagrange multipliers, $\\mathbf{\\lambda} \\geq \\mathbf{0}$, which penalizes violations of the relaxed constraints. This process is known as **Lagrangian Relaxation**.\n",
    "\n",
    "$$\n",
    "\\min_x \\mathbf{c}^\\top \\mathbf{x} + \\lambda^\\top (\\mathbf{A} \\mathbf{x} - \\mathbf{b})\n",
    "$$\n",
    "Subject to\n",
    "$$\n",
    "\\mathbf{D} \\mathbf{x} \\leq \\mathbf{d}\n",
    "$$\n",
    "$$\n",
    "\\mathbf{x} \\geq \\mathbf{0}\n",
    "$$\n",
    "\n",
    "This relaxed problem is generally easier to solve than the original problem because the complex constraints $\\mathbf{A} \\mathbf{x} \\leq \\mathbf{b}$ have been removed. However, for any given value of the Lagrange multipliers $\\mathbf{\\lambda} \\geq \\mathbf{0}$, the solution to this relaxed problem only provides a lower bound on the objective value of orginal problem.\n",
    "\n",
    "By removing constant term $- \\mathbf{\\lambda}^\\top \\mathbf{b}$, the simplified objective function becomes $(\\mathbf{c}^\\top + \\lambda^\\top \\mathbf{A}) \\mathbf{x}$.\n"
   ]
  },
  {
   "cell_type": "markdown",
   "metadata": {
    "id": "Tr-emnmAjfCB"
   },
   "source": [
    "**Question:**\n",
    "- What happens in a maximization problem?\n",
    "- What if the constraints are $\\mathbf{A} \\mathbf{x} \\geq \\mathbf{b}$ or $\\mathbf{A} \\mathbf{x} = \\mathbf{b}$?"
   ]
  },
  {
   "cell_type": "markdown",
   "metadata": {
    "id": "mCEEnRRhkPZY"
   },
   "source": [
    "#### Iterative Process\n",
    "\n",
    "The iterative process involves solving the this problem as subprolem, which seeks to maximize the lower bound obtained from the relaxed problem. This can be done by optimizing the Lagrange multipliers $\\mathbf{\\lambda}$.\n",
    "\n",
    "Algorithm:\n",
    "\n",
    "1. Initialize first feasible solution $\\mathbf{x}^0$ and master problem:\n",
    "$$\n",
    "\\max_{\\mathbf{\\lambda} \\geq \\mathbf{0}, z} z\n",
    "$$\n",
    "2. Generate new constraint to the master with the given $\\mathbf{x}^k$ to get $\\mathbf{\\lambda}^k$:\n",
    "$$\n",
    "z \\leq \\mathbf{c}^\\top \\mathbf{x}^k + \\lambda^\\top (\\mathbf{A} \\mathbf{x}^k - \\mathbf{b})\n",
    "$$\n",
    "3. Solve the new master prolem. This provides the lower bound:\n",
    "$$z^k$$\n",
    "Terminate if the gap is 0.\n",
    "4. Solve the subproblems (Lagrangian Relaxation) with the given $\\mathbf{\\lambda}^k$ to get $\\mathbf{x}^{k+1}$:\n",
    "$$\n",
    "\\min_x (\\mathbf{c}^\\top + {\\lambda^k}^\\top \\mathbf{A}) \\mathbf{x}\n",
    "$$\n",
    "Subject to\n",
    "$$\n",
    "\\mathbf{D} \\mathbf{x} \\leq \\mathbf{d}\n",
    "$$\n",
    "$$\n",
    "\\mathbf{x} \\geq \\mathbf{0}\n",
    "$$\n",
    "This provides the lower bound:\n",
    "$$\n",
    "\\mathbf{c}^\\top \\mathbf{x}^{k+1} + {\\mathbf{\\lambda}^k}^\\top (\\mathbf{A} \\mathbf{x}^{k+1} - \\mathbf{b}).\n",
    "$$\n",
    "If the gap between the upper and lower bounds is zero, terminate.\n",
    "4. Return to step 2.\n"
   ]
  },
  {
   "cell_type": "markdown",
   "metadata": {
    "id": "7qMswx3dq9D_"
   },
   "source": [
    "### Example 1: Pike and Quid Problem from Note 3b\n",
    "\n",
    "We now apply the Lagrangian Relaxation method to solve the Pike and Quid Problem. In this problem, we want to maximize the steel production across two locations, Pike and Quid, while adhering to resource constraints."
   ]
  },
  {
   "cell_type": "markdown",
   "metadata": {
    "id": "O8Rb4p17sEIe"
   },
   "source": [
    "#### Problem Parameters:"
   ]
  },
  {
   "cell_type": "markdown",
   "metadata": {
    "id": "CJGgrpPGsPJt"
   },
   "source": [
    "Objective coefficients $\\mathbf{c}$ representing the production value of different types of steel produced at Pike and Quid."
   ]
  },
  {
   "cell_type": "code",
   "execution_count": null,
   "metadata": {
    "id": "ev8GWob5a_SM"
   },
   "outputs": [],
   "source": [
    "c = np.array([90, 80, 70, 60])"
   ]
  },
  {
   "cell_type": "markdown",
   "metadata": {
    "id": "25pBegojsfvA"
   },
   "source": [
    "Total ore constraint (first constraint):\n",
    "- $\\mathbf{A}$ represents the coefficients of the total ore consumption for different types of steel.\n",
    "- $\\mathbf{b}$, representing the total available ore supply."
   ]
  },
  {
   "cell_type": "code",
   "execution_count": null,
   "metadata": {
    "id": "aw-IlEZZse4s"
   },
   "outputs": [],
   "source": [
    "A = np.array([[8, 6, 7, 5]])\n",
    "b = np.array([80])"
   ]
  },
  {
   "cell_type": "markdown",
   "metadata": {
    "id": "iD9voB1vtBkD"
   },
   "source": [
    "Resource constraints at Pike and Quid (coal and furnace capacities):\n",
    "- $\\mathbf{D}$​​ representing the resource consumption constraints for coal and furnace at both locations.\n",
    "- $\\mathbf{d}$​​  representing the maximum allowable resources (coal and furnace) at Pike and Quid."
   ]
  },
  {
   "cell_type": "code",
   "execution_count": null,
   "metadata": {
    "id": "MLawgThis21q"
   },
   "outputs": [],
   "source": [
    "D = np.array([[3, 1, 0, 0],\n",
    "              [2, 1, 0, 0],\n",
    "              [0, 0, 3, 2],\n",
    "              [0, 0, 1, 1]])\n",
    "d = np.array([12, 10, 15, 4])"
   ]
  },
  {
   "cell_type": "markdown",
   "metadata": {
    "id": "2sZvOhTwuLfR"
   },
   "source": [
    "#### Original LP\n",
    "\n",
    "We first solve the problem with original formulation. Before implementing any fancy algorithms like **Lagrangian Relaxation**, it is essential to first solve the problem using conventional methods to establish a **baseline** and **solution check**."
   ]
  },
  {
   "cell_type": "code",
   "execution_count": null,
   "metadata": {
    "id": "HdC1MXXttUHV"
   },
   "outputs": [],
   "source": [
    "# init model\n",
    "model = gp.Model(\"Orignal Production\")\n",
    "\n",
    "# decision variables\n",
    "x = model.addMVar(4, name=\"steels\")\n",
    "\n",
    "# objective function\n",
    "model.setObjective(c @ x, sense=GRB.MAXIMIZE)\n",
    "\n",
    "# constraints\n",
    "model.addConstr(A @ x <= b)\n",
    "model.addConstr(D @ x <= d)\n",
    "\n",
    "# solves\n",
    "model.optimize()\n",
    "\n",
    "# solution\n",
    "print(\"Objective Value: {:.2f}\".format(model.ObjVal))\n",
    "print(f\"{x[0].x:5.2f} tons Steel1 from Pike.\")\n",
    "print(f\"{x[1].x:5.2f} tons Steel2 from Pike.\")\n",
    "print(f\"{x[2].x:5.2f} tons Steel1 from Quid.\")\n",
    "print(f\"{x[3].x:5.2f} tons Steel2 from Quid.\")\n",
    "print(\"\\n\\n\")"
   ]
  },
  {
   "cell_type": "markdown",
   "metadata": {
    "id": "-Tdh7eeLuaPw"
   },
   "source": [
    "**Understanding MVar in Gurobi:*** In Gurobi, an MVar (matrix variable) is used to handle multiple decision variables at once, especially when the decision variables are naturally represented as a vector or matrix (e.g., when there are multiple production decisions to make). Using MVar allows you to directly perform matrix operations `@` in the objective function and constraints."
   ]
  },
  {
   "cell_type": "markdown",
   "metadata": {
    "id": "lWi67hMfvERb"
   },
   "source": [
    "#### Task: Complete Iterative Algorithm\n",
    "\n",
    "Now that we have established a baseline solution using the traditional method, we can proceed with implementing the **Lagrangian Relaxation** algorithm to iteratively solve the problem.\n",
    "\n",
    "Please fill the empty code block."
   ]
  },
  {
   "cell_type": "markdown",
   "metadata": {
    "id": "Rl1HBXGxwJvR"
   },
   "source": [
    "##### Initialize First Feasible Solution"
   ]
  },
  {
   "cell_type": "code",
   "execution_count": null,
   "metadata": {
    "id": "aNaIuN-TwP2x"
   },
   "outputs": [],
   "source": [
    "xval = np.zeros_like(c)"
   ]
  },
  {
   "cell_type": "markdown",
   "metadata": {
    "id": "u3WTxTifvnj5"
   },
   "source": [
    "##### Master Problem"
   ]
  },
  {
   "cell_type": "code",
   "execution_count": null,
   "metadata": {
    "id": "qUmAqm7PuQJq"
   },
   "outputs": [],
   "source": [
    "# init master problem\n",
    "master = gp.Model(\"Master Problem\")\n",
    "# turn off log\n",
    "master.Params.outputFlag = 0\n",
    "# decision variables\n",
    "λ = master.addMVar(len(A), name=\"dual\")\n",
    "z = master.addVar(name=\"z\")\n",
    "# objective function\n",
    "master.setObjective(z, sense=GRB.MINIMIZE)"
   ]
  },
  {
   "cell_type": "markdown",
   "metadata": {
    "id": "EJ8RLDkTvxO4"
   },
   "source": [
    "##### Lagragian Subproblem"
   ]
  },
  {
   "cell_type": "code",
   "execution_count": null,
   "metadata": {
    "id": "dEkr2hoovvxk"
   },
   "outputs": [],
   "source": [
    "# init subproblem\n",
    "subproblem = gp.Model(\"Subproblem\")\n",
    "# turn off log\n",
    "subproblem.Params.outputFlag = 0\n",
    "# TODO: decision variables and constraints"
   ]
  },
  {
   "cell_type": "markdown",
   "metadata": {
    "id": "eF9rcyG-wB6u"
   },
   "source": [
    "##### Iterations"
   ]
  },
  {
   "cell_type": "code",
   "execution_count": null,
   "metadata": {
    "id": "Gi-DP96jwAOw"
   },
   "outputs": [],
   "source": [
    "ub = np.inf\n",
    "# iterative updates\n",
    "cnt = 0\n",
    "while True:\n",
    "    # count\n",
    "    cnt +=  1\n",
    "    # TODO: add new constraint master\n",
    "    master.addConstr\n",
    "    # solve master for λ\n",
    "    master.optimize()\n",
    "    λval = λ.X\n",
    "    # TODO: lower bound\n",
    "    lb =\n",
    "    # terminate condition\n",
    "    if ub - lb < 1e-6:\n",
    "        break\n",
    "    # TODO: update subproblem obj\n",
    "    subproblem.setObjective\n",
    "    # solve the subproblems for x\n",
    "    subproblem.optimize()\n",
    "    xval = x.X\n",
    "    # TODO: upper bound\n",
    "    ub =\n",
    "    # terminate\n",
    "    if ub - lb < 1e-6:\n",
    "        break\n",
    "    print(f\"Iteration {cnt-1}:\")\n",
    "    print(f\"  λ = {λval.tolist()}, Dual Obj = {lb:.2f}.\")\n",
    "    print(f\"  x = {xval.tolist()}, Primal Obj = {ub:.2f}.\\n\")\n",
    "print(f\"Iteration {cnt-1}:\")\n",
    "print(f\"  λ = {λval.tolist()}, Dual Obj = {lb:.2f}.\")\n",
    "print(f\"  x = {xval.tolist()}, Primal Obj = {ub:.2f}.\\n\")"
   ]
  },
  {
   "cell_type": "markdown",
   "metadata": {
    "id": "O1TYXhvFxuno"
   },
   "source": [
    "##### Solution Output"
   ]
  },
  {
   "cell_type": "code",
   "execution_count": null,
   "metadata": {
    "id": "2PyCVInpw-aj"
   },
   "outputs": [],
   "source": [
    "# solution\n",
    "print(\"Objective Value: {:.2f}\".format(model.ObjVal))\n",
    "print(f\"{x[0].x:5.2f} tons Steel1 from Pike.\")\n",
    "print(f\"{x[1].x:5.2f} tons Steel2 from Pike.\")\n",
    "print(f\"{x[2].x:5.2f} tons Steel1 from Quid.\")\n",
    "print(f\"{x[3].x:5.2f} tons Steel2 from Quid.\")\n",
    "print(\"\\n\\n\")"
   ]
  },
  {
   "cell_type": "markdown",
   "metadata": {
    "id": "s2s29zrAW46G"
   },
   "source": [
    "**Question:**\n",
    "\n",
    "- What if we decompose subproblem for Pike and Quid?"
   ]
  },
  {
   "cell_type": "code",
   "execution_count": null,
   "metadata": {
    "id": "5J8JUeSEXcfe"
   },
   "outputs": [],
   "source": [
    "c1, c2 = c[:2], c[2:]\n",
    "D1, D2 = D[:2,:2], D[2:,2:]\n",
    "d1, d2 = d[:2], d[2:]"
   ]
  },
  {
   "cell_type": "code",
   "execution_count": null,
   "metadata": {
    "id": "QXYSoQ5YXhFj"
   },
   "outputs": [],
   "source": [
    "# init subproblem 1\n",
    "subproblem1 = gp.Model(\"Subproblem 1\")\n",
    "# turn off log\n",
    "subproblem1.Params.outputFlag = 0\n",
    "# decision variables\n",
    "x1 = subproblem1.addMVar(len(c1), name=\"steels\")\n",
    "# TODO: constraints"
   ]
  },
  {
   "cell_type": "code",
   "execution_count": null,
   "metadata": {
    "id": "OM7dStwzXozI"
   },
   "outputs": [],
   "source": [
    "# init subproblem 2\n",
    "subproblem2 = gp.Model(\"Subproblem 2\")\n",
    "# turn off log\n",
    "subproblem2.Params.outputFlag = 0\n",
    "# decision variables\n",
    "x2 = subproblem2.addMVar(len(c2), name=\"steels\")\n",
    "# TODO: constraints"
   ]
  },
  {
   "cell_type": "code",
   "execution_count": null,
   "metadata": {
    "id": "4JvAnG6xXziL"
   },
   "outputs": [],
   "source": []
  },
  {
   "cell_type": "markdown",
   "metadata": {
    "id": "huli2Bd6yD-W"
   },
   "source": [
    "### Example 2: Logistics Distribution Problem\n",
    "\n",
    "A company needs to deliver goods to three destinations (Destination 1, 2, 3) from two warehouses (Warehouse 1, 2). Each warehouse has a limited amount of goods available, and the vehicles used for transportation have limited capacities. Each destination has different demand levels, and the company wants to minimize the total transportation cost.\n",
    "\n",
    "#### Data\n",
    "\n",
    "##### 1. Transportation cost $c_{ij}$:\n",
    "This represents the cost of transporting one unit of goods from warehouse $i$ to destination $j$.\n",
    "\n",
    "| Warehouse/Destination  | Destination 1 | Destination 2 | Destination 3 |\n",
    "|------------------------|---------------|---------------|---------------|\n",
    "| **Warehouse 1**         | 2             | 4             | 5             |\n",
    "| **Warehouse 2**         | 3             | 1             | 2             |\n",
    "\n",
    "##### 2. Inventory at each warehouse $s_i$:\n",
    "This is the maximum amount of goods available at each warehouse.\n",
    "\n",
    "| Warehouse               | Inventory     |\n",
    "|-------------------------|---------------|\n",
    "| **Warehouse 1**          | 70            |\n",
    "| **Warehouse 2**          | 90            |\n",
    "\n",
    "##### 3. Demand at each destination $d_j$:\n",
    "This is the amount of goods required at each destination.\n",
    "\n",
    "| Destination             | Demand        |\n",
    "|-------------------------|---------------|\n",
    "| **Destination 1**        | 60            |\n",
    "| **Destination 2**        | 50            |\n",
    "| **Destination 3**        | 40            |\n",
    "\n",
    "##### 4. Vehicle capacity $t_i$:\n",
    "This is the maximum carrying capacity of vehicle for each warehouse.\n",
    "\n",
    "| Vehicle                 | Capacity      |\n",
    "|-------------------------|---------------|\n",
    "| **Car for Warehouse 1** | 80            |\n",
    "| **Car for Warehouse 2** | 100           |\n",
    "\n",
    "#### Objective\n",
    "\n",
    "The objective is to minimize the transportation cost while ensuring that all demand is satisfied, inventory limits are respected, and the vehicles' carrying capacity is not exceeded.\n",
    "\n",
    "#### Lagrangian Relaxation\n",
    "\n",
    "We will relax the **vehicle capacity constraint** and solve the problem iteratively."
   ]
  },
  {
   "cell_type": "markdown",
   "metadata": {
    "id": "FgsW1ovrzliX"
   },
   "source": [
    "#### Step 1: Formulate the Problem as an LP Model\n",
    "\n",
    "Before applying Lagrangian Relaxation, it's essential to first formulate and solve the problem using traditional linear programming (LP) methods. This will provide us with a baseline solution to compare against future, more complex algorithms."
   ]
  },
  {
   "cell_type": "code",
   "execution_count": null,
   "metadata": {
    "id": "XWtiBc4QyDZ-"
   },
   "outputs": [],
   "source": [
    "# init model\n",
    "model = gp.Model(\"Orignal Distribution\")"
   ]
  },
  {
   "cell_type": "markdown",
   "metadata": {
    "id": "vY9Ie2ftz1jG"
   },
   "source": [
    "#### Step 2: Applying Lagrangian Relaxation\n",
    "\n",
    "We will now attempt to solve the problem using Lagrangian Relaxation. If you find this implementation challenging, you can consider solving it step by step manually, i.e., solving the subproblems with Gurobi, then copying and pasting the results back into the master problem, and vice versa."
   ]
  },
  {
   "cell_type": "code",
   "execution_count": null,
   "metadata": {
    "id": "S-uGmf3yzz-r"
   },
   "outputs": [],
   "source": []
  },
  {
   "cell_type": "markdown",
   "metadata": {
    "id": "UQCaNp3q1EtW"
   },
   "source": [
    "**Question:**\n",
    "- What if we relaxed other constraints instead?"
   ]
  },
  {
   "cell_type": "code",
   "execution_count": null,
   "metadata": {
    "id": "gxA1bSJl1FMM"
   },
   "outputs": [],
   "source": []
  }
 ],
 "metadata": {
  "colab": {
   "provenance": []
  },
  "kernelspec": {
   "display_name": "Python 3 (ipykernel)",
   "language": "python",
   "name": "python3"
  },
  "language_info": {
   "codemirror_mode": {
    "name": "ipython",
    "version": 3
   },
   "file_extension": ".py",
   "mimetype": "text/x-python",
   "name": "python",
   "nbconvert_exporter": "python",
   "pygments_lexer": "ipython3",
   "version": "3.11.5"
  }
 },
 "nbformat": 4,
 "nbformat_minor": 4
}
