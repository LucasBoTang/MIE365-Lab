{
 "cells": [
  {
   "cell_type": "markdown",
   "metadata": {
    "id": "OGRdNIfuU4Vu"
   },
   "source": [
    "# Lab 05: Column Generation\n",
    "\n",
    "Made & Presented by Bo Tang\n",
    "\n",
    "In this lab, we will implement the **Column Generation**, which is commonly used to solve large-scale linear programming problems with <u>an enormous number of variables</u>, such as the Cutting Stock Problem. The goal is to solve the master problem by iteratively adding new columns (variables) based on subproblem solutions."
   ]
  },
  {
   "cell_type": "code",
   "execution_count": null,
   "metadata": {
    "colab": {
     "base_uri": "https://localhost:8080/"
    },
    "id": "aBZG94yPUqNf",
    "outputId": "1e898bed-057f-4010-d134-c021c80aca07"
   },
   "outputs": [
    {
     "name": "stdout",
     "output_type": "stream",
     "text": [
      "Collecting gurobipy\n",
      "  Downloading gurobipy-11.0.3-cp310-cp310-manylinux2014_x86_64.manylinux_2_17_x86_64.whl.metadata (15 kB)\n",
      "Downloading gurobipy-11.0.3-cp310-cp310-manylinux2014_x86_64.manylinux_2_17_x86_64.whl (13.4 MB)\n",
      "\u001b[2K   \u001b[90m━━━━━━━━━━━━━━━━━━━━━━━━━━━━━━━━━━━━━━━━\u001b[0m \u001b[32m13.4/13.4 MB\u001b[0m \u001b[31m20.6 MB/s\u001b[0m eta \u001b[36m0:00:00\u001b[0m\n",
      "\u001b[?25hInstalling collected packages: gurobipy\n",
      "Successfully installed gurobipy-11.0.3\n"
     ]
    }
   ],
   "source": [
    "# install gurobipy first\n",
    "! pip install gurobipy"
   ]
  },
  {
   "cell_type": "code",
   "execution_count": null,
   "metadata": {
    "id": "C2NXpkRiVy8V"
   },
   "outputs": [],
   "source": [
    "import gurobipy as gp\n",
    "import numpy as np\n",
    "from gurobipy import GRB"
   ]
  },
  {
   "cell_type": "markdown",
   "metadata": {
    "id": "rjLPBb6pV341"
   },
   "source": [
    "### Column Generation Review\n",
    "\n",
    "Column Generation is often used to solve large-scale linear programming problems where the number of decision variables is <u>extremely large</u>, making it intractable to enumerate and include all variables in the model initially.\n",
    "\n",
    "This method is particularly useful in problems like cutting stock, vehicle routing, and crew scheduling, where only a small subset of the decision variables (columns) are expected to be active in the optimal solution.\n",
    "\n",
    "The key idea behind Column Generation is to start with a smaller, manageable subset of decision variables (columns) in the **Master Problem** and iteratively add new, more promising variables by solving a **Subproblem**. The Subproblem identifies which variables (columns) have the potential to improve the solution of the Master Problem by evaluating their **reduced cost**.\n",
    "\n",
    "Consider a large-scale linear program in the following form, where we want to minimize the objective function:\n",
    "\n",
    "$$\n",
    "\\max_x \\mathbf{c}^\\top \\mathbf{x}\n",
    "$$\n",
    "Subject to\n",
    "$$\n",
    "\\mathbf{A} \\mathbf{x} \\leq \\mathbf{b}\n",
    "$$\n",
    "$$\n",
    "\\mathbf{x} \\geq \\mathbf{0}\n",
    "$$\n",
    "\n",
    "Here, $\\mathbf{x}$ represents the decision variables, $\\mathbf{c}$ the cost coefficients, and $\\mathbf{A} \\mathbf{x} \\leq \\mathbf{b}$ represents the constraints."
   ]
  },
  {
   "cell_type": "markdown",
   "metadata": {
    "id": "9pEWxWrMijjp"
   },
   "source": [
    "#### Master Problem\n",
    "\n",
    "In Column Generation, we start by solving a restricted version of this problem, known as the **Restricted Master Problem (RMP)**, which only includes a subset of decision variables $\\{ x_1, x_2, \\cdots, x_k \\}$ and the corresponding cosntraint columns $\\{ \\mathbf{a}_1, \\mathbf{a}_2, \\cdots, \\mathbf{a}_k \\}$.\n",
    "\n",
    "Thus, the Master is just the same as the large model formulation, but using the variables found in the previous $k$ iterations.\n",
    "\n",
    "$$\n",
    "\\max_x \\sum_{j=1}^k c_i x_j\n",
    "$$\n",
    "Subject to\n",
    "$$\n",
    "\\sum_{j=1}^k \\mathbf{a}_j x_j \\leq \\mathbf{b}\n",
    "$$\n",
    "$$\n",
    "x_j \\geq 0 \\quad \\forall j\n",
    "$$"
   ]
  },
  {
   "cell_type": "markdown",
   "metadata": {
    "id": "9eRZe4_WinfC"
   },
   "source": [
    "#### Subproblem\n",
    "\n",
    "The Subproblem identifies new columns (variables) to be added to the Master Problem by solving a pricing problem. The goal is to find the column with the most negative reduced cost (if minimizing), which is computed as:\n",
    "$$\n",
    "\\text{Reduced cost} = c_j - \\boldsymbol{\\lambda}^\\top \\mathbf{a}_j\n",
    "$$\n",
    "Where:\n",
    "- $c_j$ is the cost coefficient of the new column,\n",
    "- $\\mathbf{a}_j$ is the column vector of the new variable,\n",
    "- $\\mathbf{\\lambda}$ is the vector of dual variables (shadow prices) obtained from solving the Master Problem.\n",
    "\n",
    "In order to find the variable which has **the most positive reduced cost**, we solve the following price problem:\n",
    "$$\n",
    "\\min_{\\mathbf{a}_j} \\boldsymbol{\\lambda}^\\top \\mathbf{a}_j - c_j\n",
    "$$\n",
    "Subject to the **constraints specific to the problem**.\n",
    "\n",
    "If the reduced cost of the new column is negative, this column is added to the Master Problem. The process then repeats: the Master Problem is solved again with the new column, and the Subproblem is solved to search for additional columns. This iterative process continues until no more columns with negative reduced cost can be found, indicating that the optimal solution has been reached."
   ]
  },
  {
   "cell_type": "markdown",
   "metadata": {
    "id": "kRQEKKVWjfvM"
   },
   "source": [
    "**Question:**\n",
    "- What happens in a minimization master?"
   ]
  },
  {
   "cell_type": "markdown",
   "metadata": {
    "id": "CObCQH9CitKD"
   },
   "source": [
    "#### Integer Linear Problem\n",
    "\n",
    "Unfortunately, CG does not solve ILP problems, so we proceed as follows:\n",
    "\n",
    "1. Relax the integer variables and solve the relaxed problem using Column Generation as a linear program (LP).\n",
    "2. Reintroduce the integer variables to the master problem to obtain a solution.\n",
    "\n",
    "It is important to note that after relaxing the integer constraints and reintroducing them, Column Generation CANNOT guarantee global optimality for integer linear problems.\n",
    "\n",
    "##### Branch & Price (Optional)\n",
    "\n",
    "**Branch & Price** is an algorithm that combines Column Generation with the **Branch-and-Bound** method, specifically designed to handle complex problems with integer variables. In this approach, Column Generation is embedded within the Branch-and-Bound framework to solve the linear relaxation of each node.\n",
    "\n",
    "In Branch & Price, the algorithm first uses Column Generation to solve the relaxed linear problem, then introduces branching operations at each node of the search tree to handle the integer variables. Unlike traditional Branch-and-Bound, Branch & Price only generates columns relevant to the current branch, which makes it more efficient for large-scale problems."
   ]
  },
  {
   "cell_type": "markdown",
   "metadata": {
    "id": "hk2zOW0hjPv8"
   },
   "source": [
    "### Example 1: Cutting Stock Problem in Notes\n",
    "\n",
    "You sell copper wire to the retail market in lengths of 3', 5', and 9'. The respective demand for these lengths is 25, 20, and 15 units. You buy copper wire on the wholesale market in 107' lengths. The objective is to determine how many 107' lengths to buy and how to cut them to satisfy the demand with minimal cost."
   ]
  },
  {
   "cell_type": "code",
   "execution_count": null,
   "metadata": {
    "id": "xcziYpyYtNjo"
   },
   "outputs": [],
   "source": [
    "# available lengths\n",
    "lengths = [3, 5, 9]\n",
    "# demand\n",
    "demand = [25, 20, 15]"
   ]
  },
  {
   "cell_type": "markdown",
   "metadata": {
    "id": "0y-TM3EllTts"
   },
   "source": [
    "#### Exact Large Model Formulation\n",
    "\n",
    "We can model this problem as an integer linear programming (ILP) problem.\n",
    "\n",
    "Let $x_j$  be the number of times cutting pattern $j$ is used, where each pattern represents a possible way of cutting the 107' wholesale length into lengths of 3', 5', and 9'.\n",
    "\n",
    "The optimization model aims to minimize the total number of wholesale copper wire lengths used:\n",
    "\n",
    "$$\n",
    "\\min_x \\sum_{j=1}^k x_j\n",
    "$$\n",
    "Subject to\n",
    "$$\n",
    "\\sum_{j=1}^k a_{3j} x_j \\geq 25\n",
    "$$\n",
    "$$\n",
    "\\sum_{j=1}^k a_{5j} x_j \\geq 20\n",
    "$$\n",
    "$$\n",
    "\\sum_{j=1}^k a_{9j} x_j \\geq 15\n",
    "$$\n",
    "$$\n",
    "x_j \\geq 0 \\quad \\forall j\n",
    "$$"
   ]
  },
  {
   "cell_type": "markdown",
   "metadata": {
    "id": "8Okoh1xJm9zB"
   },
   "source": [
    "**Question:**\n",
    "- How many cutting patterns do we have?"
   ]
  },
  {
   "cell_type": "code",
   "execution_count": null,
   "metadata": {
    "colab": {
     "base_uri": "https://localhost:8080/"
    },
    "id": "F4bok5ECnNCr",
    "outputId": "51d874ed-4a91-4df3-cdcb-dd99cd950992"
   },
   "outputs": [
    {
     "name": "stdout",
     "output_type": "stream",
     "text": [
      "Total number of valid cutting patterns: 1921\n",
      "Sample patterns: [(0, 0, 0), (0, 0, 1), (0, 0, 2), (0, 0, 3), (0, 0, 4), (0, 0, 5), (0, 0, 6), (0, 0, 7), (0, 0, 8), (0, 0, 9)]\n"
     ]
    }
   ],
   "source": [
    "import numpy as np\n",
    "\n",
    "# wholesale length of copper wire\n",
    "wholesale_length = 107\n",
    "\n",
    "# generate all combinations of cutting patterns\n",
    "def generate_combinations():\n",
    "    combinations = []\n",
    "    for a3 in range(wholesale_length // lengths[0] + 1):\n",
    "        for a5 in range(wholesale_length // lengths[1] + 1):\n",
    "            for a9 in range(wholesale_length // lengths[2] + 1):\n",
    "                if (a3 * lengths[0] + a5 * lengths[1] + a9 * lengths[2]) <= wholesale_length:\n",
    "                    combinations.append((a3, a5, a9))\n",
    "    return combinations\n",
    "\n",
    "# generate all possible cutting patterns\n",
    "patterns = generate_combinations()\n",
    "\n",
    "# display the number of patterns and a sample\n",
    "print(\"Total number of valid cutting patterns:\", len(patterns))\n",
    "print(\"Sample patterns:\", patterns[:10])  # Show first 10 patterns"
   ]
  },
  {
   "cell_type": "markdown",
   "metadata": {
    "id": "wvRFA4cfoBIY"
   },
   "source": [
    "We can solve this ILP problem."
   ]
  },
  {
   "cell_type": "code",
   "execution_count": null,
   "metadata": {
    "colab": {
     "base_uri": "https://localhost:8080/"
    },
    "id": "Un9GyB55V1qO",
    "outputId": "2b55db26-faeb-449f-fbfe-524def61516a"
   },
   "outputs": [
    {
     "name": "stdout",
     "output_type": "stream",
     "text": [
      "Restricted license - for non-production use only - expires 2025-11-24\n",
      "Gurobi Optimizer version 11.0.3 build v11.0.3rc0 (linux64 - \"Ubuntu 22.04.3 LTS\")\n",
      "\n",
      "CPU model: Intel(R) Xeon(R) CPU @ 2.20GHz, instruction set [SSE2|AVX|AVX2]\n",
      "Thread count: 1 physical cores, 2 logical processors, using up to 2 threads\n",
      "\n",
      "Optimize a model with 3 rows, 1921 columns and 4970 nonzeros\n",
      "Model fingerprint: 0x21c94254\n",
      "Variable types: 0 continuous, 1921 integer (0 binary)\n",
      "Coefficient statistics:\n",
      "  Matrix range     [1e+00, 4e+01]\n",
      "  Objective range  [1e+00, 1e+00]\n",
      "  Bounds range     [0e+00, 0e+00]\n",
      "  RHS range        [2e+01, 2e+01]\n",
      "Found heuristic solution: objective 35.0000000\n",
      "Presolve removed 0 rows and 68 columns\n",
      "Presolve time: 0.02s\n",
      "Presolved: 3 rows, 1853 columns, 4830 nonzeros\n",
      "Found heuristic solution: objective 3.0000000\n",
      "Variable types: 0 continuous, 1853 integer (2 binary)\n",
      "\n",
      "Root relaxation: cutoff, 4 iterations, 0.00 seconds (0.00 work units)\n",
      "\n",
      "    Nodes    |    Current Node    |     Objective Bounds      |     Work\n",
      " Expl Unexpl |  Obj  Depth IntInf | Incumbent    BestBd   Gap | It/Node Time\n",
      "\n",
      "     0     0     cutoff    0         3.00000    3.00000  0.00%     -    0s\n",
      "\n",
      "Explored 1 nodes (4 simplex iterations) in 0.10 seconds (0.01 work units)\n",
      "Thread count was 2 (of 2 available processors)\n",
      "\n",
      "Solution count 2: 3 35 \n",
      "\n",
      "Optimal solution found (tolerance 1.00e-04)\n",
      "Best objective 3.000000000000e+00, best bound 3.000000000000e+00, gap 0.0000%\n",
      "\n",
      "Optimal solution found:\n",
      "Minimum number of wires needed: 3.0\n",
      "\n",
      "Cutting patterns used:\n",
      "Pattern (5, 4, 8): used 1.0 times\n",
      "Pattern (9, 16, 0): used 1.0 times\n",
      "Pattern (13, 1, 7): used 1.0 times\n"
     ]
    }
   ],
   "source": [
    "# create Gurobi model\n",
    "m = gp.Model(\"cutting_stock\")\n",
    "\n",
    "# decision variables, one for each cutting pattern\n",
    "x = m.addVars(len(patterns), vtype=GRB.INTEGER, name=\"x\")\n",
    "\n",
    "# objective: Minimize the total number of wires used\n",
    "m.setObjective(gp.quicksum(x[i] for i in range(len(patterns))), GRB.MINIMIZE)\n",
    "\n",
    "# demand constraints for each length 3 5 9\n",
    "m.addConstr(gp.quicksum(patterns[i][0] * x[i] for i in range(len(patterns))) >= demand[0], \"Demand_3ft\")\n",
    "m.addConstr(gp.quicksum(patterns[i][1] * x[i] for i in range(len(patterns))) >= demand[1], \"Demand_5ft\")\n",
    "m.addConstr(gp.quicksum(patterns[i][2] * x[i] for i in range(len(patterns))) >= demand[2], \"Demand_9ft\")\n",
    "\n",
    "# optimize the model\n",
    "m.optimize()\n",
    "\n",
    "# display the results\n",
    "if m.status == GRB.OPTIMAL:\n",
    "    print(\"\\nOptimal solution found:\")\n",
    "    print(f\"Minimum number of wires needed: {m.objVal}\\n\")\n",
    "    print(\"Cutting patterns used:\")\n",
    "    for i in range(len(patterns)):\n",
    "        if x[i].x > 0:\n",
    "            print(f\"Pattern {patterns[i]}: used {x[i].x} times\")\n",
    "else:\n",
    "    print(\"No optimal solution found.\")"
   ]
  },
  {
   "cell_type": "markdown",
   "metadata": {
    "id": "riM0nzcGtDL0"
   },
   "source": [
    "### Column Generation\n",
    "\n",
    "We will model this using a Column Generation approach where:\n",
    "- The Master Problem determines how to use the cuts.\n",
    "- The Subproblem generates new cutting patterns (columns) based on the current solution of the Master."
   ]
  },
  {
   "cell_type": "markdown",
   "metadata": {
    "id": "qYnTTTixttgO"
   },
   "source": [
    "#### Initial Pattern\n",
    "\n",
    "We will start with a simple initial cutting pattern:\n",
    "$$\n",
    "\\begin{pmatrix}\n",
    "1 \\\\\n",
    "1 \\\\\n",
    "11\n",
    "\\end{pmatrix}\n",
    "$$"
   ]
  },
  {
   "cell_type": "code",
   "execution_count": null,
   "metadata": {
    "id": "HqJeA4GGorwQ"
   },
   "outputs": [],
   "source": [
    "init_pattern = [1, 1, 11]"
   ]
  },
  {
   "cell_type": "markdown",
   "metadata": {
    "id": "u10NDl_Hw1xc"
   },
   "source": [
    "#### Master Problem\n",
    "\n",
    "Fill the code for master problem."
   ]
  },
  {
   "cell_type": "code",
   "execution_count": null,
   "metadata": {
    "id": "A42Sp84YvTHg"
   },
   "outputs": [],
   "source": [
    "def solve_master_problem(patterns):\n",
    "    # create Gurobi model\n",
    "    m = gp.Model(\"master\")\n",
    "    # turn off log\n",
    "    m.Params.outputFlag = 0\n",
    "    # Todo: decision variables for the number of times each pattern is used\n",
    "    x = m.addVars\n",
    "    # objective: Minimize the number of 107' copper wires used\n",
    "    m.setObjective(gp.quicksum(x[i] for i in range(len(patterns))), GRB.MINIMIZE)\n",
    "    # Todo: constraints to meet demand for each length (3', 5', 9')\n",
    "    m.addConstr\n",
    "    # optimize the master\n",
    "    m.optimize()\n",
    "    # objective value\n",
    "    objval = m.objVal\n",
    "    # return the dual variables (shadow prices) from the demand constraints\n",
    "    λ = [m.getConstrByName(\"Demand_3ft\").Pi,\n",
    "         m.getConstrByName(\"Demand_5ft\").Pi,\n",
    "         m.getConstrByName(\"Demand_9ft\").Pi]\n",
    "    return objval, λ\n",
    "\n",
    "# solve master problem\n",
    "objval, λ = solve_master_problem([init_pattern])"
   ]
  },
  {
   "cell_type": "markdown",
   "metadata": {
    "id": "_tNW4Gwow8V2"
   },
   "source": [
    "#### Subproblem\n",
    "\n",
    "Next, we solve the Subproblem to find new cutting patterns that could improve the solution. The Subproblem will find a cutting pattern with the most negative reduced cost."
   ]
  },
  {
   "cell_type": "code",
   "execution_count": null,
   "metadata": {
    "id": "KfeaEIrtwBDn"
   },
   "outputs": [],
   "source": [
    "def solve_subproblem(λ):\n",
    "    # create the subproblem to find new cutting patterns\n",
    "    m = gp.Model(\"Subproblem\")\n",
    "    # turn off log\n",
    "    m.Params.outputFlag = 0\n",
    "    # Todo: decision variables for the number of 3', 5', and 9' lengths\n",
    "\n",
    "    # Todo: objective: maximize the reduced cost (negative of the dual prices)\n",
    "\n",
    "    # Todo: constraint: less than or equal to whole lengtj\n",
    "\n",
    "    # optimize the subproblem\n",
    "    m.optimize()\n",
    "    # objective value\n",
    "    objval = m.objVal\n",
    "    # Todo: get new pattern\n",
    "    new_pattern =\n",
    "    return objval, new_pattern\n",
    "\n",
    "objval, new_pattern = solve_subproblem(λ)\n",
    "print(\"\\nObjective value:\", objval)\n",
    "print(\"New pattern:\", new_pattern)"
   ]
  },
  {
   "cell_type": "markdown",
   "metadata": {
    "id": "y-sh45Nmzuvn"
   },
   "source": [
    "#### Column Generation Iteration\n",
    "\n",
    "We will now implement the Column Generation algorithm to iteratively solve the master and Subproblem. The algorithm will add new patterns until no further improvements can be made."
   ]
  },
  {
   "cell_type": "code",
   "execution_count": null,
   "metadata": {
    "id": "adu1Ta4_y1sM"
   },
   "outputs": [],
   "source": [
    "def column_generation(init_pattern):\n",
    "    # init patterns\n",
    "    patterns = [init_pattern]\n",
    "    cnt = 0\n",
    "    while True:\n",
    "        # solve master\n",
    "        objval, λ = solve_master_problem(patterns)\n",
    "        # solve subproblem\n",
    "        rcost, new_pattern = solve_subproblem(λ)\n",
    "        # if no improvement, break\n",
    "        if rcost <= 0:\n",
    "            break\n",
    "        # add new pattern\n",
    "        patterns.append(new_pattern)\n",
    "        cnt += 1\n",
    "        print(f\"Iteration {cnt}: New pattern {new_pattern} with objective value {objval}\")\n",
    "    return patterns\n",
    "\n",
    "patterns = column_generation(init_pattern)\n",
    "# display the number of patterns and a sample\n",
    "print(\"Total number of valid cutting patterns:\", len(patterns))\n",
    "print(\"Patterns:\", patterns)"
   ]
  },
  {
   "cell_type": "markdown",
   "metadata": {
    "id": "3Ivfyj_B2ZPH"
   },
   "source": [
    "#### Solve ILP\n",
    "\n",
    "Now reintroduce the integer variables to find a solution."
   ]
  },
  {
   "cell_type": "code",
   "execution_count": null,
   "metadata": {
    "id": "sumK8qZ-2qOG"
   },
   "outputs": [],
   "source": [
    "# create Gurobi model\n",
    "m = gp.Model(\"cutting_stock\")\n",
    "\n",
    "# decision variables, one for each cutting pattern\n",
    "x = m.addVars(len(patterns), vtype=GRB.INTEGER, name=\"x\")\n",
    "\n",
    "# objective: Minimize the total number of wires used\n",
    "m.setObjective(gp.quicksum(x[i] for i in range(len(patterns))), GRB.MINIMIZE)\n",
    "\n",
    "# demand constraints for each length 3 5 9\n",
    "m.addConstr(gp.quicksum(patterns[i][0] * x[i] for i in range(len(patterns))) >= demand[0], \"Demand_3ft\")\n",
    "m.addConstr(gp.quicksum(patterns[i][1] * x[i] for i in range(len(patterns))) >= demand[1], \"Demand_5ft\")\n",
    "m.addConstr(gp.quicksum(patterns[i][2] * x[i] for i in range(len(patterns))) >= demand[2], \"Demand_9ft\")\n",
    "\n",
    "# optimize the model\n",
    "m.optimize()\n",
    "\n",
    "# display the results\n",
    "print(\"\\nOptimal solution found:\")\n",
    "print(f\"Minimum number of wires needed: {m.objVal}\\n\")\n",
    "print(\"Cutting patterns used:\")\n",
    "for i in range(len(patterns)):\n",
    "    if x[i].x > 0:\n",
    "        print(f\"Pattern {patterns[i]}: used {x[i].x} times\")"
   ]
  },
  {
   "cell_type": "markdown",
   "metadata": {
    "id": "xtj00Jkd34_D"
   },
   "source": [
    "We can observe that the solution obtained through Column Generation may not always be the optimal solution for integer linear problems."
   ]
  },
  {
   "cell_type": "markdown",
   "metadata": {
    "id": "q0rfB_skAABz"
   },
   "source": [
    "### Example 2: Clothing Company Shipment\n",
    "\n",
    "A clothing company is in the process of creating a set of new shipments $s \\in S$. Each shipment combines a set of available clothing items from the set $F$. Each clothing item $i \\in F$ has an expected sales revenue of $r_i$ dollars, handling cost of $c_i$, and the total number of units available of item $i$ is $d_i$. Also, the maximum number of distinct shipments that can be made is equal to $K$. Finally, for each shipment, the total handling cost should not exceed 50\\% of the expected revenue.\n",
    "You have been hired by this company to help optimize the shipments that should be sent out in order to maximize the total expected revenue.\n",
    "\n",
    "The company has decided to model the problem in the following way:\n",
    "Let $S$ be the set of all feasible shipment patterns that can be created.\n",
    "Let $a_{is}$ be the number of clothing item $i$ in shipment $s$.\n",
    "Let $r_s = \\sum_{i \\in F} a_{is} r_i$ be the expected revenue from shipment $s$.\n",
    "\n",
    "Let variables $x_s$ be equal to 1 if shipment $s$ will be sent, and 0 otherwise.\n",
    "\n",
    "Then the problem formulation follows:\n",
    "$$\n",
    "\\max \\sum_{s \\in S} r_s x_s\n",
    "$$\n",
    "Subject to:\n",
    "$$\n",
    "\\sum_{s \\in S} a_{is} x_s \\leq d_i \\quad \\forall i \\in F\n",
    "$$\n",
    "$$\n",
    "\\sum_{s \\in S} x_s \\leq K\n",
    "$$\n",
    "$$\n",
    "x_s \\in \\{0, 1\\} \\quad \\forall s \\in S\n",
    "$$\n",
    "\n",
    "The first set of constraints ensures that no more than the available amount is sent out for each item $i$.\n",
    "The last constraint ensures that no more than $K$ shipments are sent.\n",
    "\n",
    "Suppose you are given dual variables $\\alpha_i$ for the first set of constraints, and $\\beta$ for the last constraint.\n",
    "\n",
    "Now consider solving the LP relaxation of this problem and applying column generation.\n",
    "\n",
    "- Write down a formula for the reduced cost for a variable $x_s$.\n",
    "- Assuming that you are using column generation for solving the problem, explain how you might set up your pricing problem.\n",
    "- Explain what the decision variables will be and write down the objective function and constraints."
   ]
  },
  {
   "cell_type": "code",
   "execution_count": null,
   "metadata": {
    "id": "m5FNmiMf1KDB"
   },
   "outputs": [],
   "source": []
  }
 ],
 "metadata": {
  "colab": {
   "provenance": []
  },
  "kernelspec": {
   "display_name": "Python 3 (ipykernel)",
   "language": "python",
   "name": "python3"
  },
  "language_info": {
   "codemirror_mode": {
    "name": "ipython",
    "version": 3
   },
   "file_extension": ".py",
   "mimetype": "text/x-python",
   "name": "python",
   "nbconvert_exporter": "python",
   "pygments_lexer": "ipython3",
   "version": "3.11.5"
  }
 },
 "nbformat": 4,
 "nbformat_minor": 4
}
