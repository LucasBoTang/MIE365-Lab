{
  "nbformat": 4,
  "nbformat_minor": 0,
  "metadata": {
    "colab": {
      "provenance": []
    },
    "kernelspec": {
      "name": "python3",
      "display_name": "Python 3"
    },
    "language_info": {
      "name": "python"
    }
  },
  "cells": [
    {
      "cell_type": "markdown",
      "source": [
        "# Lab 06 Stochastic Programming\n",
        "\n",
        "Made & Presented by Bo Tang\n",
        "\n",
        "In this lab, we will explore the fundamental concepts of Stochastic Programming and its application in handling uncertainty in decision-making processes. Our focus will be on two-stage stochastic programming, where decisions are made in two phases: a first-stage decision before uncertainty is revealed and a second-stage recourse decision after uncertainty is realized. We will formulate the problem in its extensive form and demonstrate the Sample Average Approximation (SAA) method."
      ],
      "metadata": {
        "id": "p54iGZjHcBc2"
      }
    },
    {
      "cell_type": "code",
      "execution_count": null,
      "metadata": {
        "colab": {
          "base_uri": "https://localhost:8080/"
        },
        "id": "GKbSA5CXbxxD",
        "outputId": "3fc9106f-972a-409f-9c0c-c45d7fc4fa99"
      },
      "outputs": [
        {
          "output_type": "stream",
          "name": "stdout",
          "text": [
            "Requirement already satisfied: gurobipy in /usr/local/lib/python3.11/dist-packages (12.0.1)\n"
          ]
        }
      ],
      "source": [
        "# install gurobipy first\n",
        "! pip install gurobipy"
      ]
    },
    {
      "cell_type": "code",
      "source": [
        "import gurobipy as gp\n",
        "import numpy as np\n",
        "from gurobipy import GRB"
      ],
      "metadata": {
        "id": "DAGb9qk0c5pJ"
      },
      "execution_count": null,
      "outputs": []
    },
    {
      "cell_type": "markdown",
      "source": [
        "Stochastic Programming is an optimization framework designed to handle decision-making under uncertainty. Unlike deterministic optimization, where all parameters are assumed to be known with certainty, stochastic programming explicitly incorporates randomness into the model. This allows for more realistic and robust decision-making, especially in situations where future outcomes are uncertain.\n",
        "\n",
        "In many real-world applications—such as finance, energy systems, and supply chain management—key parameters are uncertain and must be estimated based on historical data or probabilistic models.\n",
        "\n",
        "For example:\n",
        "\n",
        "- **Finance**: In portfolio optimization, future stock prices and interest rates are unknown and volatile. A stochastic programming model helps investors allocate assets by considering multiple market scenarios, ensuring a balance between expected returns and risk exposure.\n",
        "- **Energy Systems**: In power generation planning, the availability of renewable energy sources (such as wind speed or solar radiation) is highly uncertain. A stochastic optimization approach allows grid operators to schedule electricity generation efficiently while ensuring reliability under different weather conditions.\n",
        "- **Supply Chain Management**: In inventory control and logistics, customer demand and supplier lead times are unpredictable. A company using stochastic programming can determine optimal order quantities and distribution strategies that minimize costs while maintaining service levels across various demand scenarios.\n",
        "\n",
        "By integrating randomness into optimization models, stochastic programming helps decision-makers develop robust, effect strategies that perform well across a range of potential future outcomes.\n"
      ],
      "metadata": {
        "id": "hNCoI_KTddJe"
      }
    },
    {
      "cell_type": "markdown",
      "source": [
        "### **1. General Stochastic Program**\n",
        "\n",
        "The general formulation of a stochastic program is:\n",
        "\n",
        "$$\n",
        "\\min_{\\mathbf{x} \\in \\mathcal{X(\\xi)}} \\mathbb{E} [ f(\\mathbf{x}, \\xi) ]\n",
        "$$\n",
        "\n",
        "- $\\mathbf{x}$: represents the decision variables, constrained to a feasible set $\\mathcal{X}(\\xi)$.  \n",
        "- $\\xi$: Random vector representing uncertain parameters, defined on some probability space $\\Omega$.\n",
        "- $f(\\mathbf{x}, \\xi)$: Objective function that quantifies the performance or cost of a decision.\n",
        "- $\\mathbb{E} [ f(\\mathbf{x}, \\xi) ] = \\int_{\\Omega} f(\\mathbf{x}, \\xi) d \\mathbb{P}$: Expected value of the objective function over the uncertainty space.\n",
        "\n"
      ],
      "metadata": {
        "id": "LlP075jem0Ds"
      }
    },
    {
      "cell_type": "markdown",
      "source": [
        "### **2. Two-Stage Stochastic Linear Program**\n",
        "\n",
        "A common structure in stochastic programming is the two-stage model. In this approach, decisions are divided into:\n",
        "\n",
        "1. **First-stage decisions $\\mathbf{x}$ (here-and-now)**: These are decisions made before the uncertainty $\\xi$ is realized. They must be chosen without knowing the exact outcome of uncertain parameters.\n",
        "\n",
        "2. **Second-stage decisions $\\mathbf{y}$ (wait-and-see)**: Once the uncertainty $\\xi$ is observed, additional adjustments (or recourse actions) can be made to respond to the realized scenario. These decisions depend on both the first-stage choices and the observed uncertainty.\n",
        "\n",
        "#### 2.1 Examples of Two-Stage Stochastic Programs\n",
        "\n",
        "- Inventory Management:\n",
        "\n",
        "    - First-stage ($\\mathbf{x}$): A retailer orders a fixed amount of products before knowing the exact customer demand.\n",
        "    - Second-stage ($\\mathbf{y}$): Once demand is realized, the retailer places emergency orders (if demand is high) or discounts excess stock (if demand is low).\n",
        "\n",
        "- Hiring Staff for an Event\n",
        "\n",
        "    - First-stage ($\\mathbf{x}$): An event planner hires a certain number of staff before knowing how many attendees will show up.\n",
        "    - Second-stage ($\\mathbf{y}$): If attendance is higher than expected, temporary staff are hired at a premium rate; if attendance is lower, the extra staff are reassigned or released early.\n",
        "\n",
        "#### 2.2 Mathematical Formulation\n",
        "\n",
        "The general form for a two-stage stochastic linear program can be written as:\n",
        "$$\n",
        "\\min_{\\mathbf{x} \\in \\mathcal{X}} \\mathbf{c}^{\\top} \\mathbf{x} + \\mathbb{E}_{\\xi} \\left[ Q(\\mathbf{x}, \\xi) \\right]\n",
        "$$\n",
        "where:\n",
        "- **$\\mathbf{x}$**: First-stage decision variables, chosen before the uncertainty $\\xi$ is revealed.\n",
        "- **$\\mathbf{c}^{\\top} \\mathbf{x}$**: Direct cost associated with first-stage decisions.\n",
        "- **$\\mathbb{E}_{\\xi} \\left[ Q(\\mathbf{x}, \\xi) \\right]$**: Expected future cost of making second-stage adjustments once uncertainty is observed.\n",
        "\n",
        "The recourse function is:\n",
        "$$\n",
        "Q(\\mathbf{x}, \\xi) := \\min_{\\mathbf{y}} \\mathbf{q}(\\xi)^{\\top} \\mathbf{y}\n",
        "$$\n",
        "Subject to\n",
        "$$\n",
        "\\mathbf{W}(\\xi) \\mathbf{y} = \\mathbf{h}(\\xi) - \\mathbf{T}(\\xi) \\mathbf{x}\n",
        "$$\n",
        "$$\n",
        "\\mathbf{y} \\geq \\mathbf{0}\n",
        "$$\n",
        "\n",
        "$ \\mathbf{q}(\\xi), \\mathbf{h}(\\xi), \\mathbf{W}(\\xi), \\mathbf{T}(\\xi) $ are scenario-dependent parameters.\n",
        "\n",
        "#### 2.3 Key Insights\n",
        "\n",
        "- The first-stage problem makes decisions before knowing the exact realization of uncertainty, but aims to minimize the total expected cost.\n",
        "- The second-stage problem adjusts the decision after the uncertainty is observed, ensuring feasibility and mitigating additional costs.\n",
        "- The expectation $\\mathbb{E}_{\\xi} \\left[ Q(\\mathbf{x}, \\xi) \\right]$ represents a high-dimensional integral, which is often approximated using Sample Average Approximation (SAA) or decomposition methods like Benders decomposition.\n",
        "\n",
        "#### 2.4 Question:\n",
        "\n",
        "**1. What if $\\mathbf{c}$ is random?**\n",
        "$$\n",
        "\\min_{\\mathbf{x} \\in \\mathcal{X}} \\mathbb{E}_{\\xi} \\left[ \\mathbf{c}(\\xi)^{\\top} \\mathbf{x} + Q(\\mathbf{x}, \\xi) \\right]\n",
        "$$\n",
        "$$\n",
        "= \\min_{\\mathbf{x} \\in \\mathcal{X}} \\mathbb{E}_{\\xi} \\left[ \\mathbf{c}(\\xi)^{\\top} \\mathbf{x} \\right] + \\mathbb{E}_{\\xi} \\left[ Q(\\mathbf{x}, \\xi) \\right]\n",
        "$$\n",
        "$$\n",
        "= \\min_{\\mathbf{x} \\in \\mathcal{X}} \\mathbb{E}_{\\xi} \\left[ \\mathbf{c}(\\xi) \\right]^{\\top} \\mathbf{x} + \\mathbb{E}_{\\xi} \\left[ Q(\\mathbf{x}, \\xi) \\right]\n",
        "$$\n",
        "    Hence, we can just take $\\mathbb{E}_{\\xi} \\left[ \\mathbf{c}(\\xi) \\right]$ as $\\mathbf{c}$.\n",
        "\n",
        "**2. Why cannot we use $Q \\big( \\mathbf{x}, \\mathbb{E}_{\\xi} [ \\xi) ] \\big)$ directly?**\n",
        "\n",
        "We cannot replace the expected recourse function $\\mathbb{E}_{\\xi} \\left[ Q(\\mathbf{x}, \\xi) \\right]$ with $Q \\big( \\mathbf{x}, \\mathbb{E}_{\\xi} [ \\xi ] \\big)$.\n",
        "\n",
        "This follows from **Jensen’s inequality**, which states that for a nonlinear function $f$,  \n",
        "$$\n",
        "\\mathbb{E} [ f(\\xi) ] \\neq f( \\mathbb{E} [\\xi] )\n",
        "$$\n",
        "*Why are recourse functions nonlinear?*"
      ],
      "metadata": {
        "id": "NHuhIbPVmvdD"
      }
    },
    {
      "cell_type": "markdown",
      "source": [
        "### **3. Extensive Form**  \n",
        "\n",
        "When the **number of scenarios is finite**, the **extensive form** explicitly includes all possible scenarios in a **single deterministic equivalent model**. This formulation allows the decision-maker to account for multiple possible realizations of uncertainty in a structured way.  \n",
        "\n",
        "For example, consider a **two-stage stochastic problem with $ \\Xi $ scenarios**, each occurring with probability $ \\mathcal{p}_{\\xi} $. The extensive form combines the first-stage decision variables with **recourse variables** for each scenario.  \n",
        "\n",
        "#### **Mathematical Formulation**  \n",
        "\n",
        "$$\n",
        "\\min_{\\mathbf{x}, \\mathbf{y}_{\\xi}} \\mathbf{c}^{\\top} \\mathbf{x} + \\sum_{\\xi=1}^{\\Xi} \\mathcal{p}_{\\xi} \\mathbf{q}_{\\xi}^{\\top} \\mathbf{y}_{\\xi}\n",
        "$$\n",
        "\n",
        "subject to:  \n",
        "\n",
        "$$\n",
        "\\mathbf{x} \\in \\mathcal{X}\n",
        "$$\n",
        "\n",
        "$$\n",
        "\\mathbf{W}_{\\xi} \\mathbf{y}_{\\xi} = \\mathbf{h}_{\\xi} - \\mathbf{T}_{\\xi} \\mathbf{x}, \\quad \\forall \\xi \\in \\Xi\n",
        "$$\n",
        "\n",
        "$$\n",
        "\\mathbf{y}_{\\xi} \\geq \\mathbf{0}, \\quad \\forall \\xi \\in \\Xi\n",
        "$$\n",
        "\n",
        "where:  \n",
        "- **$ \\mathbf{x} $**: First-stage decision variables (same across all scenarios).  \n",
        "- **$ \\mathbf{y}_{\\xi} $**: Second-stage (recourse) decision variables for each scenario $ \\xi $.  \n",
        "- **$ \\mathbf{c}^{\\top} \\mathbf{x} $**: First-stage cost.  \n",
        "- **$ \\mathbf{q}_{\\xi}^{\\top} \\mathbf{y}_{\\xi} $**: Scenario-dependent recourse cost under each senario $\\xi$.  \n",
        "- **$ \\mathcal{p}_{\\xi} $**: Probability of scenario $ \\xi $.  \n",
        "- **$ \\mathbf{W}_{\\xi}, \\mathbf{h}_{\\xi}, \\mathbf{T}_{\\xi} $**: Scenario-dependent constraint parameters.\n"
      ],
      "metadata": {
        "id": "wTd_-kGumr3x"
      }
    },
    {
      "cell_type": "markdown",
      "source": [
        "### **4. Sample Average Approximation (SAA)**  \n",
        "\n",
        "In many real-world applications, the **number of scenarios is either infinite, extremely large, or computationally intractable** ($\\int_{\\Omega} Q(\\mathbf{x}, \\xi) d \\mathbb{P}$) to handle explicitly. Instead of evaluating the expectation exactly, we approximate it using Sample Average Approximation (SAA). This method replaces the true expectation with an empirical average computed from a finite set of sampled scenarios, making the problem computationally feasible.\n",
        "\n",
        "#### 4.1 Mathematical Formulation\n",
        "\n",
        "Given a set of $N$ independent samples (scenarios) of uncertainty, $ \\{ \\xi_1, \\xi_2, \\dots, \\xi_N \\} $, the expectation in the two-stage stochastic program:\n",
        "\n",
        "$$\n",
        "\\min_{\\mathbf{x} \\in \\mathcal{X}} \\mathbf{c}^{\\top} \\mathbf{x} + \\mathbb{E}_{\\xi} \\left[ Q(\\mathbf{x}, \\xi) \\right]\n",
        "$$\n",
        "\n",
        "is approximated by the sample average:\n",
        "\n",
        "$$\n",
        "\\min_{\\mathbf{x}, \\mathbf{y}_n} \\mathbf{c}^{\\top} \\mathbf{x} + \\frac{1}{N} \\sum_{n=1}^{N} Q(\\mathbf{x}, \\xi_n)\n",
        "$$\n",
        "\n",
        "where the recourse functio* for each sample scenario $ \\xi_n $ is:\n",
        "\n",
        "$$\n",
        "Q(\\mathbf{x}, \\xi_n) = \\min_{\\mathbf{y}_n} \\mathbf{q}(\\xi_n)^{\\top} \\mathbf{y}_n\n",
        "$$\n",
        "\n",
        "subject to:\n",
        "\n",
        "$$\n",
        "\\mathbf{W}(\\xi_n) \\mathbf{y}_n = \\mathbf{h}(\\xi_n) - \\mathbf{T}(\\xi_n) \\mathbf{x}, \\quad \\forall n = 1, \\dots, N\n",
        "$$\n",
        "\n",
        "$$\n",
        "\\mathbf{y}_n \\geq \\mathbf{0}, \\quad \\forall n = 1, \\dots, N\n",
        "$$\n",
        "\n",
        "where:  \n",
        "- **$ N $**: Number of sampled scenarios.  \n",
        "- **$ \\xi_n $**: Sampled realization of the uncertainty.  \n",
        "- **$ \\mathbf{y}_n $**: Recourse decision corresponding to scenario $ \\xi_n $.  \n",
        "- **$ \\frac{1}{N} \\sum_{n=1}^{N} Q(\\mathbf{x}, \\xi_n) $**: Empirical approximation of the expected recourse cost.  \n",
        "\n",
        "#### 4.2 Why Use SAA?\n",
        "- **Computational Feasibility**: When the number of possible scenarios is infinite or too large, computing the expectation exactly is impractical. SAA provides a **tractable approximation**.  \n",
        "- **Statistical Justification**: By the law of large numbers, as $ N $ increases, the SAA solution converges to the true optimal solution.  \n",
        "- **Decomposition-Friendly**: Since each scenario $ \\xi_n $ is treated separately, SAA can be efficiently solved using advanced decomposition method.  \n",
        "\n",
        "#### 4.3 Choosing the Number of Samples $ N $  \n",
        "- Larger $ N $ improves accuracy, but increases computational cost.  \n",
        "- A practical approach is to incrementally increase $ N $ until the optimal solution stabilizes.  \n",
        "- Statistical techniques like Monte Carlo confidence intervals can be used to determine an appropriate sample size.  \n",
        "\n",
        "SAA provides a practical and efficient way to approximate stochastic programs, balancing computational efficiency with solution accuracy.\n"
      ],
      "metadata": {
        "id": "QFty2xXD66Zu"
      }
    },
    {
      "cell_type": "markdown",
      "source": [
        "### **5. Bender's Decomposition (Extended Reading)**\n",
        "\n",
        "**Note: Extended Reading Only:  Benders' decomposition is a more advanced technique that is not required for this course but is included here for those interested in further study. Benders’ decomposition improves efficiency by breaking large problems into smaller, more manageable subproblems.**\n",
        "\n",
        "While the extensive form captures the entire problem, it can quickly become computationally infeasible for problems with many scenarios due to the large number of variables and constraints. This is where decomposition methods come in.\n",
        "\n",
        "$$\n",
        "\\min_{\\mathbf{x} \\in \\mathcal{X}} \\mathbf{c}^{\\top} \\mathbf{x} + \\mathbb{E}_{\\xi} \\left[ Q(\\mathbf{x}, \\xi) \\right]\n",
        "$$\n",
        "can be converted as\n",
        "$$\n",
        "\\min_{\\mathbf{x} \\in \\mathcal{X}, \\eta} \\mathbf{c}^{\\top} \\mathbf{x} + \\sum_{\\xi}^{\\Xi} \\mathcal{p}_{\\xi} \\eta_{\\xi}\n",
        "$$\n",
        "Subject to\n",
        "$$\n",
        "\\eta_{\\xi} \\geq Q_{\\xi}(\\mathbf{x})\n",
        "$$\n",
        "\n",
        "For $Q_{\\xi}(\\mathbf{x})$, the primal form is\n",
        "$$\n",
        "\\min_{\\mathbf{y}} \\mathbf{q}_{\\xi}^{\\top} \\mathbf{y}\n",
        "$$\n",
        "Subject to\n",
        "$$\n",
        "\\mathbf{W}_{\\xi} \\mathbf{y} = \\mathbf{h}_{\\xi}- \\mathbf{T}_{\\xi} \\mathbf{x}\n",
        "$$\n",
        "$$\n",
        "\\mathbf{y} \\geq \\mathbf{0}\n",
        "$$\n",
        "Therefore, we can obtain the duality:\n",
        "$$\n",
        "\\max_{\\boldsymbol{\\pi}} \\boldsymbol{\\pi}^{\\top} (\\mathbf{h}_{\\xi}- \\mathbf{T}_{\\xi} \\mathbf{x})\n",
        "$$\n",
        "Subject to\n",
        "$$\n",
        "\\mathbf{W}_{\\xi}^\\top \\boldsymbol{\\pi} \\leq \\mathbf{q}_{\\xi}\n",
        "$$\n",
        "\n",
        "Let define $\\Pi_{\\xi} = \\{\\boldsymbol{\\pi}: \\mathbf{W}_{\\xi}^\\top \\boldsymbol{\\pi} \\leq \\mathbf{q}_{\\xi} \\}$ and $V(\\Pi_{\\xi})$ is the finite set of extreme points of $\\Pi_{\\xi}$.\n",
        "\n",
        "We can observe:\n",
        "$$\n",
        "\\eta_{\\xi} \\geq Q_{\\xi}(\\mathbf{x})\n",
        "$$\n",
        "$$\n",
        "\\Leftrightarrow \\eta_{\\xi} \\geq \\max_{\\boldsymbol{\\pi}} \\{ \\boldsymbol{\\pi}^{\\top} (\\mathbf{h}_{\\xi}- \\mathbf{T}_{\\xi} \\mathbf{x}): \\boldsymbol{\\pi} \\in \\Pi_{\\xi} \\}\n",
        "$$\n",
        "$$\n",
        "\\Leftrightarrow \\eta_{\\xi} \\geq \\boldsymbol{\\pi}^{\\top} (\\mathbf{h}_{\\xi}- \\mathbf{T}_{\\xi} \\mathbf{x}), \\quad \\forall \\boldsymbol{\\pi} \\in V(\\Pi_{\\xi})\n",
        "$$\n",
        "\n",
        "Therefore, we have our **master problem** for Bender's:\n",
        "$$\n",
        "\\min_{\\mathbf{x}, \\mathbf{y}} \\mathbf{c}^{\\top} \\mathbf{x} + \\sum_{\\xi=1}^{\\Xi} \\mathcal{p}_{\\xi} \\eta_{\\xi}\n",
        "$$\n",
        "Subject to\n",
        "$$\n",
        "\\mathbf{x} \\in \\mathcal{X}\n",
        "$$\n",
        "$$\n",
        "\\mathbf{W}_{\\xi} \\mathbf{y}_{\\xi} = \\mathbf{h}_{\\xi} - \\mathbf{T}_{\\xi} \\mathbf{x}  \\quad \\forall {\\xi} \\in {\\Xi}\n",
        "$$\n",
        "$$\n",
        "\\eta_{\\xi} \\geq \\boldsymbol{\\pi}_{\\xi}^{\\top} (\\mathbf{h}_{\\xi}- \\mathbf{T}_{\\xi} \\mathbf{x}) \\quad \\forall \\boldsymbol{\\pi}_{\\xi} \\in V_{\\xi}^t, \\forall \\xi \\in \\Xi\n",
        "$$\n",
        "where $V_{\\xi}^t$ a (small) subset of $\\Pi_{\\xi}$ at iteraion $t$.\n",
        "\n",
        "Let $\\mathbf{x}^t, \\eta_{\\xi}^t$ be an optimal solution to master the problem at iteration $t$.\n",
        "1. For each $\\xi$, we need to solve subproblem $Q(\\mathbf{x}_t, \\xi)$ to obtain a $\\boldsymbol{\\pi}_{\\xi}^t$ with the given $\\mathbf{x}_t$.\n",
        "2. If $\\eta_{\\xi} \\geq Q(\\mathbf{x}_t, \\xi)$, all the constraints for scenario $\\xi$ are satisfied. Do nothing.\n",
        "3. If $\\eta_{\\xi} < Q(\\mathbf{x}_t, \\xi)$, add the constraint $\\eta_{\\xi} \\geq {\\boldsymbol{\\pi}^t_{\\xi}}^{\\top} (\\mathbf{h}_{\\xi}- \\mathbf{T}_{\\xi} \\mathbf{x})$ to master problem."
      ],
      "metadata": {
        "id": "CscKjQUdugbr"
      }
    },
    {
      "cell_type": "markdown",
      "source": [
        "### **6. Quick Tutotial: Gurobi Indexing**\n",
        "\n",
        "When working with **multi-index variables** in Gurobi, it's essential to use the correct indexing style to avoid common mistakes. Below is an example illustrating proper indexing in Gurobi.\n",
        "\n",
        "Imagine we need to assign workers to different **tasks** in multiple **shifts**.  \n",
        "\n",
        "- **Workers**: Alice, Bob, Charlie  \n",
        "- **Tasks**: Packing, Assembling  \n",
        "- **Shifts**: Morning, Afternoon  \n",
        "\n",
        "Since each assignment depends on **three indices** (worker, task, shift), we should define the decision variables accordingly.\n",
        "\n",
        "#### 6.1 Creates a dictionary of variables\n",
        "\n",
        "```python\n",
        "workers = [\"Alice\", \"Bob\", \"Charlie\"]\n",
        "tasks = [\"Packing\", \"Assembling\"]\n",
        "shifts =  [\"Morning\", \"Afternoon\"]\n",
        "assign = m.addVars(workers, tasks, shifts, vtype=GRB.BINARY, name=\"assign\")\n",
        "```\n",
        "\n",
        "To access a specific assignment variable:\n",
        "```python\n",
        "assign[\"Alice\", \"Packing\", \"Morning\"]\n",
        "```\n",
        "\n",
        "#### 6.2 defining constraints over multiple indices\n",
        "```python\n",
        "m.addConstrs(\n",
        "    (gp.quicksum(assign[w, t, s] for t in tasks) <= 1\n",
        "     for w in workers for s in shifts),\n",
        "    name=\"MaxOneTaskPerShift\")\n",
        "```\n",
        "\n",
        "This constraint ensures that each worker is assigned at most one task per shift. Let's break it down step by step:\n",
        "\n",
        "\n",
        "```python\n",
        "for w in workers for s in shifts\n",
        "```\n",
        "\n",
        "- This iterates over all workers (w) and all shifts (s).\n",
        "- Each worker in each shift gets its own constraint.\n",
        "\n",
        "```python\n",
        "gp.quicksum(assign[w, t, s] for t in tasks)\n",
        "```\n",
        "\n",
        "- Gurobi provides `gp.quicksum()` for summing variables efficiently.\n",
        "- It ensures that a worker is assigned to at most one task per shift."
      ],
      "metadata": {
        "id": "sHlc_sMCFlBq"
      }
    },
    {
      "cell_type": "markdown",
      "source": [
        "### **7. Example from Lecture Note**\n",
        "\n",
        "You own 500 acres of land in which to plant wheat (w), corn (c), and beets (b) with planting costs of 150 \\$/acre for wheat, 230 \\$/acre for corn, and 260 \\$/acre for beets.\n",
        "\n",
        "You require 200 T of wheat and 240 T of corn to feed your cattle.\n",
        "The yield of each crop is uncertain, with expected values of 2.5, 3, and 20 T/acre for wheat corn and beets, respectively. Purchasing cost of wheat is 238 \\$/T and 210 \\$/T for corn. Any excess wheat can be sold for 170 \\$/T, corn for 150 \\$/ton, beets for 36 \\$/ton (up to 6000 T), beets for 10 \\$/T (beyond 6000 T).\n",
        "\n",
        "Suppose that:\n",
        "- There is a 1/3 probability that crops will be as expected\n",
        "- There is a 1/3 probability that ALL crops will be 20% higher than expected\n",
        "- There is a 1/3 probability that ALL crops will be 20% lower than expected."
      ],
      "metadata": {
        "id": "4RM721QB6hC0"
      }
    },
    {
      "cell_type": "code",
      "source": [
        "# data setup\n",
        "planting_cost = {\"wheat\": 150, \"corn\": 230, \"beets\": 260}\n",
        "purchase_cost = {\"wheat\": 238, \"corn\": 210}\n",
        "selling_price = {\"wheat\": 170, \"corn\": 150, \"beets_high\": 36, \"beets_low\": 10}\n",
        "feed_requirements = {\"wheat\": 200, \"corn\": 240}\n",
        "land_available = 500\n",
        "beet_sale_limit = 6000"
      ],
      "metadata": {
        "id": "gqkSN5EP9Y8k"
      },
      "execution_count": null,
      "outputs": []
    },
    {
      "cell_type": "code",
      "source": [
        "# scenarios and probabilities\n",
        "expected_yields = {\"wheat\": 2.5, \"corn\": 3, \"beets\": 20}\n",
        "scenarios = [1, 2, 3]\n",
        "yields = {\n",
        "    1: {crop: yield_val for crop, yield_val in expected_yields.items()},    # Scenario 1: Expected yields\n",
        "    2: {crop: 1.2 * yield_val for crop, yield_val in expected_yields.items()},  # Scenario 2: 20% higher yields\n",
        "    3: {crop: 0.8 * yield_val for crop, yield_val in expected_yields.items()}   # Scenario 3: 20% lower yields\n",
        "}\n",
        "probabilities = {1: 1/3, 2: 1/3, 3: 1/3}"
      ],
      "metadata": {
        "id": "bkhwnQaCbV5W"
      },
      "execution_count": null,
      "outputs": []
    },
    {
      "cell_type": "markdown",
      "source": [
        "#### 7.1 Using Expected Yields\n",
        "\n",
        "To understand the **incremental value of Stochastic Programming (SP)**, we first solve the problem **without SP**  using a commonsense **deterministic approach**. This allows us to develop a simpler **Linear Program (LP)** based on expected yields and serves as a baseline for comparison.\n",
        "\n",
        "Simpler approach\n",
        "- Formulate the LP assuming expected yields.\n",
        "- Solve the LP to determine the acreages.\n",
        "- Evaluate the profit for each scenario.\n",
        "- Calculate the expected profit."
      ],
      "metadata": {
        "id": "KMEv3Bn184L2"
      }
    },
    {
      "cell_type": "markdown",
      "source": [
        "First, let solve the LP with expected yields."
      ],
      "metadata": {
        "id": "9YXY2FghByao"
      }
    },
    {
      "cell_type": "code",
      "source": [
        "# create Gurobi model\n",
        "m = gp.Model(\"Simple Approach\")\n",
        "\n",
        "# decision variables\n",
        "planting = m.addVars(planting_cost.keys(), vtype=GRB.CONTINUOUS, name=\"plants\")\n",
        "sales = m.addVars(selling_price.keys(), vtype=GRB.CONTINUOUS, name=\"sales\")\n",
        "purchase = m.addVars(purchase_cost.keys(), vtype=GRB.CONTINUOUS, name=\"purchases\")\n",
        "\n",
        "# objective function\n",
        "revenue = gp.quicksum(sales[crop] * selling_price[crop] for crop in selling_price)\n",
        "planting_cost_total = gp.quicksum(planting[crop] * planting_cost[crop] for crop in planting_cost)\n",
        "purchase_cost_total = gp.quicksum(purchase[crop] * purchase_cost[crop] for crop in purchase_cost)\n",
        "m.setObjective(revenue - planting_cost_total - purchase_cost_total, GRB.MAXIMIZE)\n",
        "\n",
        "# constraints\n",
        "m.addConstr(expected_yields[\"wheat\"] * planting[\"wheat\"] + purchase[\"wheat\"] - sales[\"wheat\"] >= feed_requirements[\"wheat\"], \"Wheat Balance\")\n",
        "m.addConstr(expected_yields[\"corn\"] * planting[\"corn\"] + purchase[\"corn\"] - sales[\"corn\"] >= feed_requirements[\"corn\"], \"Corn Balance\")\n",
        "m.addConstr(expected_yields[\"beets\"] * planting[\"beets\"] - sales[\"beets_high\"] - sales[\"beets_low\"] >= 0, \"Beet Balance\")\n",
        "m.addConstr(sales[\"beets_high\"] <= beet_sale_limit, \"Beets Limit\")\n",
        "m.addConstr(planting.sum() <= land_available, \"Land Balance\")\n",
        "\n",
        "# solve the model\n",
        "m.optimize()\n",
        "\n",
        "# display the results\n",
        "print(f\"\\nNet profit: {m.objVal:.0f}\")\n",
        "for crop in planting:\n",
        "    print(f\"  plant {planting[crop].x:.0f} acres of {crop}.\")"
      ],
      "metadata": {
        "id": "2cyYy-_69BnF",
        "colab": {
          "base_uri": "https://localhost:8080/"
        },
        "outputId": "46e3de76-061d-4ae8-88b5-4e1f4e327bd5"
      },
      "execution_count": null,
      "outputs": [
        {
          "output_type": "stream",
          "name": "stdout",
          "text": [
            "Restricted license - for non-production use only - expires 2026-11-23\n",
            "Gurobi Optimizer version 12.0.1 build v12.0.1rc0 (linux64 - \"Ubuntu 22.04.4 LTS\")\n",
            "\n",
            "CPU model: Intel(R) Xeon(R) CPU @ 2.20GHz, instruction set [SSE2|AVX|AVX2]\n",
            "Thread count: 1 physical cores, 2 logical processors, using up to 2 threads\n",
            "\n",
            "Optimize a model with 5 rows, 9 columns and 13 nonzeros\n",
            "Model fingerprint: 0x0c7f5310\n",
            "Coefficient statistics:\n",
            "  Matrix range     [1e+00, 2e+01]\n",
            "  Objective range  [1e+01, 3e+02]\n",
            "  Bounds range     [0e+00, 0e+00]\n",
            "  RHS range        [2e+02, 6e+03]\n",
            "Presolve removed 2 rows and 2 columns\n",
            "Presolve time: 0.02s\n",
            "Presolved: 3 rows, 7 columns, 9 nonzeros\n",
            "\n",
            "Iteration    Objective       Primal Inf.    Dual Inf.      Time\n",
            "       0    5.1200000e+33   2.000000e+30   5.120000e+03      0s\n",
            "       4    1.1860000e+05   0.000000e+00   0.000000e+00      0s\n",
            "\n",
            "Solved in 4 iterations and 0.04 seconds (0.00 work units)\n",
            "Optimal objective  1.186000000e+05\n",
            "\n",
            "Net profit: 118600\n",
            "  plant 120 acres of wheat.\n",
            "  plant 80 acres of corn.\n",
            "  plant 300 acres of beets.\n"
          ]
        }
      ]
    },
    {
      "cell_type": "markdown",
      "source": [
        "Then, we evaluate the profit for each scenario and calculate the average."
      ],
      "metadata": {
        "id": "xijlRNYKB-RC"
      }
    },
    {
      "cell_type": "code",
      "source": [
        "def resouceFunction(scenario, planting):\n",
        "    # create Gurobi model\n",
        "    m = gp.Model(\"Resource Function\")\n",
        "    # decision variables\n",
        "    sales = m.addVars(selling_price.keys(), vtype=GRB.CONTINUOUS, name=\"sales\")\n",
        "    purchase = m.addVars(purchase_cost.keys(), vtype=GRB.CONTINUOUS, name=\"purchases\")\n",
        "    # objective function\n",
        "    revenue = gp.quicksum(sales[crop] * selling_price[crop] for crop in selling_price)\n",
        "    planting_cost_total = gp.quicksum(planting[crop].x * planting_cost[crop] for crop in planting_cost)\n",
        "    purchase_cost_total = gp.quicksum(purchase[crop] * purchase_cost[crop] for crop in purchase_cost)\n",
        "    m.setObjective(revenue - planting_cost_total - purchase_cost_total, GRB.MAXIMIZE)\n",
        "    # constraints\n",
        "    m.addConstr(yields[scenario][\"wheat\"] * planting[\"wheat\"].x + purchase[\"wheat\"] - sales[\"wheat\"] >= feed_requirements[\"wheat\"], \"Wheat Balance\")\n",
        "    m.addConstr(yields[scenario][\"corn\"] * planting[\"corn\"].x + purchase[\"corn\"] - sales[\"corn\"] >= feed_requirements[\"corn\"], \"Corn Balance\")\n",
        "    m.addConstr(yields[scenario][\"beets\"] * planting[\"beets\"].x - sales[\"beets_high\"] - sales[\"beets_low\"] >= 0, \"Beet Balance\")\n",
        "    m.addConstr(sales[\"beets_high\"] <= beet_sale_limit, \"Beets Limit\")\n",
        "    return m\n",
        "\n",
        "# solve for each senaraio\n",
        "# scenario 1\n",
        "q1 = resouceFunction(1, planting)\n",
        "q1.optimize()\n",
        "obj1 = q1.objVal\n",
        "# scenario 2\n",
        "q2 = resouceFunction(2, planting)\n",
        "q2.optimize()\n",
        "obj2 = q2.objVal\n",
        "# scenario 3\n",
        "q3 = resouceFunction(3, planting)\n",
        "q3.optimize()\n",
        "obj3 = q3.objVal\n",
        "\n",
        "# result\n",
        "print(f\"\\nProfit for Scenario 1: {obj1:.0f}\")\n",
        "print(f\"Profit for Scenario 2: {obj2:.0f}\")\n",
        "print(f\"Profit for Scenario 3: {obj3:.0f}\")\n",
        "expected_profit = probabilities[1] * obj1 + probabilities[2] * obj2 + probabilities[3] * obj3\n",
        "print(f\"Expected Profit: {expected_profit:.0f}\")"
      ],
      "metadata": {
        "id": "zfFvIoefCJ52",
        "colab": {
          "base_uri": "https://localhost:8080/"
        },
        "outputId": "0e78bb3e-b571-48d6-cd9c-300b821fb7f6"
      },
      "execution_count": null,
      "outputs": [
        {
          "output_type": "stream",
          "name": "stdout",
          "text": [
            "Gurobi Optimizer version 12.0.1 build v12.0.1rc0 (linux64 - \"Ubuntu 22.04.4 LTS\")\n",
            "\n",
            "CPU model: Intel(R) Xeon(R) CPU @ 2.20GHz, instruction set [SSE2|AVX|AVX2]\n",
            "Thread count: 1 physical cores, 2 logical processors, using up to 2 threads\n",
            "\n",
            "Optimize a model with 4 rows, 6 columns and 7 nonzeros\n",
            "Model fingerprint: 0x12edb664\n",
            "Coefficient statistics:\n",
            "  Matrix range     [1e+00, 1e+00]\n",
            "  Objective range  [1e+01, 2e+02]\n",
            "  Bounds range     [0e+00, 0e+00]\n",
            "  RHS range        [1e+02, 6e+03]\n",
            "Presolve removed 4 rows and 6 columns\n",
            "Presolve time: 0.01s\n",
            "Presolve: All rows and columns removed\n",
            "Iteration    Objective       Primal Inf.    Dual Inf.      Time\n",
            "       0    1.1860000e+05   0.000000e+00   1.000000e+01      0s\n",
            "Extra simplex iterations after uncrush: 1\n",
            "       1    1.1860000e+05   0.000000e+00   0.000000e+00      0s\n",
            "\n",
            "Solved in 1 iterations and 0.02 seconds (0.00 work units)\n",
            "Optimal objective  1.186000000e+05\n",
            "Gurobi Optimizer version 12.0.1 build v12.0.1rc0 (linux64 - \"Ubuntu 22.04.4 LTS\")\n",
            "\n",
            "CPU model: Intel(R) Xeon(R) CPU @ 2.20GHz, instruction set [SSE2|AVX|AVX2]\n",
            "Thread count: 1 physical cores, 2 logical processors, using up to 2 threads\n",
            "\n",
            "Optimize a model with 4 rows, 6 columns and 7 nonzeros\n",
            "Model fingerprint: 0xb33d546a\n",
            "Coefficient statistics:\n",
            "  Matrix range     [1e+00, 1e+00]\n",
            "  Objective range  [1e+01, 2e+02]\n",
            "  Bounds range     [0e+00, 0e+00]\n",
            "  RHS range        [5e+01, 7e+03]\n",
            "Presolve removed 4 rows and 6 columns\n",
            "Presolve time: 0.01s\n",
            "Presolve: All rows and columns removed\n",
            "Iteration    Objective       Primal Inf.    Dual Inf.      Time\n",
            "       0    1.4800000e+05   0.000000e+00   0.000000e+00      0s\n",
            "\n",
            "Solved in 0 iterations and 0.02 seconds (0.00 work units)\n",
            "Optimal objective  1.480000000e+05\n",
            "Gurobi Optimizer version 12.0.1 build v12.0.1rc0 (linux64 - \"Ubuntu 22.04.4 LTS\")\n",
            "\n",
            "CPU model: Intel(R) Xeon(R) CPU @ 2.20GHz, instruction set [SSE2|AVX|AVX2]\n",
            "Thread count: 1 physical cores, 2 logical processors, using up to 2 threads\n",
            "\n",
            "Optimize a model with 4 rows, 6 columns and 7 nonzeros\n",
            "Model fingerprint: 0x6691ca6d\n",
            "Coefficient statistics:\n",
            "  Matrix range     [1e+00, 1e+00]\n",
            "  Objective range  [1e+01, 2e+02]\n",
            "  Bounds range     [0e+00, 0e+00]\n",
            "  RHS range        [4e+01, 6e+03]\n",
            "Presolve removed 4 rows and 6 columns\n",
            "Presolve time: 0.01s\n",
            "Presolve: All rows and columns removed\n",
            "Iteration    Objective       Primal Inf.    Dual Inf.      Time\n",
            "       0    5.5120000e+04   0.000000e+00   0.000000e+00      0s\n",
            "\n",
            "Solved in 0 iterations and 0.01 seconds (0.00 work units)\n",
            "Optimal objective  5.512000000e+04\n",
            "\n",
            "Profit for Scenario 1: 118600\n",
            "Profit for Scenario 2: 148000\n",
            "Profit for Scenario 3: 55120\n",
            "Expected Profit: 107240\n"
          ]
        }
      ]
    },
    {
      "cell_type": "markdown",
      "source": [
        "**Important Note: This method optimizes $f(\\mathbb{E}[\\xi])$ rather than $\\mathbb{E}[f(\\xi)]$, meaning it is not Stochastic Programming. As a result, the solution tends to be worse.**"
      ],
      "metadata": {
        "id": "Tx9KUj8iAR4j"
      }
    },
    {
      "cell_type": "markdown",
      "source": [
        "#### 7.2 Extensive Form\n",
        "\n",
        "In each scenario, we can either buy crops to meet the feed requirement or sell excess production. We'll formulate an extensive form to account for these scenarios."
      ],
      "metadata": {
        "id": "wITANPym8VNo"
      }
    },
    {
      "cell_type": "markdown",
      "source": [
        "Question:\n",
        "\n",
        "- Which decision variables are first-stage? Which one should be decided now and here?\n",
        "- Which decision variables are second-stage? Which one can be decided in the future?"
      ],
      "metadata": {
        "id": "kqqFNCaLeEFm"
      }
    },
    {
      "cell_type": "code",
      "source": [
        "# create Gurobi model\n",
        "m = gp.Model(\"Extensive Form\")\n",
        "\n",
        "# TODO: decision variables\n",
        "planting =\n",
        "purchase =\n",
        "sales =\n",
        "\n",
        "# TODO: objective function\n",
        "m.setObjective\n",
        "\n",
        "# TODO: constraints\n",
        "m.addConstrs\n",
        "\n",
        "# solve the model\n",
        "m.optimize()\n",
        "\n",
        "# display the results\n",
        "print(f\"\\nNet profit: {m.objVal:.0f}\")\n",
        "for crop in planting:\n",
        "    print(f\"  plant {planting[crop].x:.0f} acres of {crop}.\")"
      ],
      "metadata": {
        "id": "dsv_SueWc81u"
      },
      "execution_count": null,
      "outputs": []
    },
    {
      "cell_type": "markdown",
      "source": [
        "Question:\n",
        "\n",
        "- How much of an improvement is stochastic programming over LP with expectations?"
      ],
      "metadata": {
        "id": "elTJkuSNNmvy"
      }
    },
    {
      "cell_type": "markdown",
      "source": [
        "#### 7.3 Bender's Decomposition\n",
        "\n",
        "To implement Bender’s Decomposition based on the explanation you've provided, we can break down the process into two main components: the master problem and the subproblem for each scenario.\n",
        "\n",
        "When we have a maximization problem, we can turn it into a minimization problem by changing the sign of the objective function. Instead of maximizing $f(x)$, we minimize $−f(x)$."
      ],
      "metadata": {
        "id": "5zHen2p0GXzI"
      }
    },
    {
      "cell_type": "markdown",
      "source": [
        "##### Master Problem\n",
        "\n",
        "We will create the master problem in Gurobi, and for each iteration, solve the subproblems to add new constraints."
      ],
      "metadata": {
        "id": "amFU_buMGvdN"
      }
    },
    {
      "cell_type": "code",
      "source": [
        "# master problem creation\n",
        "master = gp.Model(\"Benders Master\")\n",
        "\n",
        "# turn off log\n",
        "master.Params.outputFlag = 0\n",
        "\n",
        "# TODO: first-stage decision variables\n",
        "\n",
        "\n",
        "# recourse approximation variables\n",
        "η = master.addVars(scenarios, vtype=GRB.CONTINUOUS, lb=-1e9, name=\"η\")\n",
        "\n",
        "# TODO: objective function for the master problem\n",
        "master.setObjective\n",
        "\n",
        "# TODO: constraint\n",
        "master.addConstr"
      ],
      "metadata": {
        "id": "ywCIZUb7Gp4K"
      },
      "execution_count": null,
      "outputs": []
    },
    {
      "cell_type": "markdown",
      "source": [
        "##### Subproblems\n",
        "\n",
        "For each scenario, we solve a subproblem to determine the second-stage decisions and obtain the dual variables. If necessary, generate a new cut and add it to the master problem.\n",
        "\n",
        "we typically solve the primal form of the subproblem to make things more intuitive and practical. Whether we solve the primal or the dual subproblem, we can always extract the dual variables.\n"
      ],
      "metadata": {
        "id": "NcR9Er2wIMSE"
      }
    },
    {
      "cell_type": "code",
      "source": [
        "# subproblem\n",
        "def subproblem(scenario, planting):\n",
        "    # create Gurobi model\n",
        "    subprob = gp.Model(\"Subproblem\")\n",
        "    # turn off log\n",
        "    subprob.Params.outputFlag = 0\n",
        "    # TODO: decision variables\n",
        "\n",
        "    # TODO: objective function\n",
        "    subprob.setObjective\n",
        "    # TODO: constraints\n",
        "    subprob.addConstr\n",
        "    return subprob"
      ],
      "metadata": {
        "id": "Nt3wZH3YJR6r"
      },
      "execution_count": null,
      "outputs": []
    },
    {
      "cell_type": "markdown",
      "source": [
        "##### Iterative Approach\n",
        "\n",
        "The process iteratively adds new Bender’s cuts to the master problem, updating it with the information from the subproblems until convergence is achieved."
      ],
      "metadata": {
        "id": "xFsm7y2qLBRE"
      }
    },
    {
      "cell_type": "code",
      "source": [
        "# init cnt\n",
        "iter = 0\n",
        "# Bender's decomposition loop\n",
        "while True:\n",
        "    # count\n",
        "    iter += 1\n",
        "    # initialize a flag to check if any cuts were added\n",
        "    cuts_added = False\n",
        "    # solve the master\n",
        "    master.optimize()\n",
        "    print(f\"Iteration {iter}, Objective Value: {-master.objVal:.0F}\")\n",
        "    for crop in planting:\n",
        "        print(f\"  plant {planting[crop].x:.0f} acres of {crop}.\")\n",
        "    print(\"\\n\")\n",
        "    # for each scenario\n",
        "    for sc in scenarios:\n",
        "        # solve subproblem for the current scenario\n",
        "        subprob = subproblem(sc, planting)\n",
        "        subprob.optimize()\n",
        "        # get the objective value of the subproblem\n",
        "        Q_value = subprob.objVal\n",
        "        # check adding a cut\n",
        "        if η[sc].x < Q_value - 1e-6:\n",
        "            # extract dual variables from subproblem constraints\n",
        "            dual_wheat = subprob.getConstrByName(\"Wheat Balance\").pi\n",
        "            dual_corn = subprob.getConstrByName(\"Corn Balance\").pi\n",
        "            dual_beets = subprob.getConstrByName(\"Beet Balance\").pi\n",
        "            dual_beets_limit = subprob.getConstrByName(\"Beets Limit\").pi\n",
        "            # TODO: formulate the cut using dual values and add it to the master problem\n",
        "            cut_expr =\n",
        "            master.addConstr(η[sc] >= cut_expr, f\"BendersCut {sc} at Iter {iter}\")\n",
        "            cuts_added = True\n",
        "    # if no new cuts are added, stop the loop\n",
        "    if not cuts_added:\n",
        "        print(\"Convergence reached. No more cuts needed.\")\n",
        "        break"
      ],
      "metadata": {
        "id": "pHYV6Vn8LEqe"
      },
      "execution_count": null,
      "outputs": []
    },
    {
      "cell_type": "code",
      "source": [
        "# display the results\n",
        "print(f\"\\nNet profit: {-master.objVal:.0f}\")\n",
        "for crop in planting:\n",
        "    print(f\"  plant {planting[crop].x:.0f} acres of {crop}.\")"
      ],
      "metadata": {
        "id": "Jo3AdAMgltWE"
      },
      "execution_count": null,
      "outputs": []
    },
    {
      "cell_type": "markdown",
      "source": [
        "Question:\n",
        "\n",
        "- Why do we set the lower bound of $\\eta$ to $-10^9$?"
      ],
      "metadata": {
        "id": "UHMlLkuuoXkP"
      }
    },
    {
      "cell_type": "code",
      "source": [],
      "metadata": {
        "id": "rz6KUUh3mAGL"
      },
      "execution_count": null,
      "outputs": []
    }
  ]
}